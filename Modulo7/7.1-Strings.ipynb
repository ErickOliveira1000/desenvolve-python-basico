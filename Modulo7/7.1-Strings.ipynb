{
 "cells": [
  {
   "cell_type": "markdown",
   "id": "9f83e888-98e2-42d8-99f1-7cb274266a6e",
   "metadata": {},
   "source": [
    " 1. Escreva um programa que solicita o nome do usuário e o imprime em forma de escada,\r\n",
    "como indicado no exemplo a seguir.\r\n",
    "Digite seu nome: Fulano\r\n",
    "F\r\n",
    "Fu\r\n",
    "Ful\r\n",
    "Fula\r\n",
    "Fulaon\r\n",
    "Fulan"
   ]
  },
  {
   "cell_type": "code",
   "execution_count": 2,
   "id": "dabc3ac8-dfde-489f-8855-34f1387a378c",
   "metadata": {},
   "outputs": [
    {
     "name": "stdin",
     "output_type": "stream",
     "text": [
      "Digite seu nome: Erick\n"
     ]
    },
    {
     "name": "stdout",
     "output_type": "stream",
     "text": [
      "E\n",
      "Er\n",
      "Eri\n",
      "Eric\n",
      "Erick\n"
     ]
    }
   ],
   "source": [
    "frase = str(input(\"Digite seu nome:\"))\n",
    "\n",
    "objetivo = 0\n",
    "for i in range(len(frase)):\n",
    "    objetivo += 1\n",
    "    print(frase[0:objetivo])\n"
   ]
  },
  {
   "cell_type": "markdown",
   "id": "a17238eb-6462-424b-adb6-fbb30adddd63",
   "metadata": {},
   "source": [
    "2) Escreva um programa que solicite ao usuário inserir seu primeiro nome e sobrenome\r\n",
    "separadamente. Em seguida, concatene essas duas strings e exiba a mensagem de\r\n",
    "boas-vindas.\r\n",
    "Digite seu primeiro nome: Alice\r\n",
    "Digite seu sobrenome: Silva\r\n",
    "Bem-vinda, Alice Silva!"
   ]
  },
  {
   "cell_type": "code",
   "execution_count": 54,
   "id": "3c827e4b-e179-4434-bc10-26423966f465",
   "metadata": {},
   "outputs": [
    {
     "name": "stdin",
     "output_type": "stream",
     "text": [
      "Digite seu primeiro nome: Erick\n",
      "Digite seu sobrenome: Oliveira\n"
     ]
    },
    {
     "name": "stdout",
     "output_type": "stream",
     "text": [
      "Bem-vindo(a), Erick  Oliveira !\n"
     ]
    }
   ],
   "source": [
    "nome = str(input(\"Digite seu primeiro nome:\"))\n",
    "sobrenome = str(input(\"Digite seu sobrenome:\"))\n",
    "\n",
    "print(f\"Bem-vindo(a),\",nome,\"\",sobrenome,\"!\")"
   ]
  },
  {
   "cell_type": "markdown",
   "id": "a4e6fdcc-8e5f-4e25-a614-440fdaf2ab41",
   "metadata": {},
   "source": [
    "3) Escreva um script que dado uma frase conta os espaços em branco.\n",
    "Digite a frase: Meu amor mora em Roma e me deu um ramo de flores\n",
    "Espaços em branco: 11"
   ]
  },
  {
   "cell_type": "code",
   "execution_count": 56,
   "id": "bd868744-7e7a-4460-9ec0-8b6c07f7f13c",
   "metadata": {},
   "outputs": [
    {
     "name": "stdin",
     "output_type": "stream",
     "text": [
      "Digite uma frase: Meu amor mora em Roma e me deu um ramo de flores\n"
     ]
    },
    {
     "name": "stdout",
     "output_type": "stream",
     "text": [
      "Espaços em branco:11\n"
     ]
    }
   ],
   "source": [
    "frase = str(input(\"Digite uma frase:\"))\n",
    "\n",
    "cont_espaco = 0\n",
    "for i in range(len(frase)):\n",
    "    if frase[i] in \" \":\n",
    "        cont_espaco += 1\n",
    "\n",
    "print(f\"Espaços em branco:{cont_espaco}\")"
   ]
  },
  {
   "cell_type": "markdown",
   "id": "4307b3e8-36a6-424a-82bf-94cf1f20c7e6",
   "metadata": {},
   "source": [
    "4) Faça um programa que leia um número de celular e, caso o número tenha apenas 8\r\n",
    "dígitos, acrescente o 9 na frente. Caso o número já tenha 9 dígitos, verifique se o\r\n",
    "primeiro dígito é 9. Adicione o separador \"-\" na sua impressão.\r\n",
    "Digite o número: 97651234\r\n",
    "Número completo: 99765-1234\r\n",
    "Digite o número: 980876543\r\n",
    "Número complet: 9803387-654"
   ]
  },
  {
   "cell_type": "code",
   "execution_count": 15,
   "id": "1a7d59b5-d53a-43c8-b519-2a22e3a76a42",
   "metadata": {},
   "outputs": [
    {
     "name": "stdin",
     "output_type": "stream",
     "text": [
      "Digite o número: 980876543\n"
     ]
    },
    {
     "name": "stdout",
     "output_type": "stream",
     "text": [
      "Número completo: 98087-6543"
     ]
    }
   ],
   "source": [
    "numero = str(input(\"Digite o número:\"))\n",
    "\n",
    "numero = list(numero)\n",
    "\n",
    "if len(numero) == 8:\n",
    "    numero.insert(4, '-')\n",
    "    numero.insert(0, '9')\n",
    "    print(\"Número completo:\", end=\" \")\n",
    "    for i in range(len(numero)):\n",
    "        print(numero[0+i],end=\"\")\n",
    "elif len(numero) == 9 and numero[0] == '9':\n",
    "    numero.insert(5, '-')\n",
    "    print(\"Número completo:\", end=\" \")\n",
    "    for i in range(len(numero)):\n",
    "        print(numero[i],end=\"\")\n",
    "else:\n",
    "    print(\"Número incorreto!\")"
   ]
  },
  {
   "cell_type": "markdown",
   "id": "58c60694-f731-41af-9891-6282df50aade",
   "metadata": {},
   "source": [
    "5) Implemente um código que leia uma string do usuário e imprima quantas vogais existem\r\n",
    "na frase e quais os seus índices da string. Dica: letra in \"aeiou\". Exemplo\n",
    ":\r\n",
    "Digite uma frase: Meu amor mora em Roma e me deu um ramo de\r\n",
    "flores\r\n",
    "19 vogais\r\n",
    "Índices [1, 2, 4, 6, 10, 12, 14, 18, 20, 22, 25, 28, 29, 31, 35 37,\r\n",
    "40, 44, 46]\r"
   ]
  },
  {
   "cell_type": "code",
   "execution_count": 5,
   "id": "9e7376ce-4800-4e8e-b918-88a7669e4813",
   "metadata": {},
   "outputs": [
    {
     "name": "stdin",
     "output_type": "stream",
     "text": [
      "Digite uma frase: Meu amor mora em Roma e me deu um ramo de flores\n"
     ]
    },
    {
     "name": "stdout",
     "output_type": "stream",
     "text": [
      "19 Vogais\n",
      "Índices [1, 2, 4, 6, 10, 12, 14, 18, 20, 22, 25, 28, 29, 31, 35, 37, 40, 44, 46]\n"
     ]
    }
   ],
   "source": [
    "frase = str(input(\"Digite uma frase:\"))\n",
    "\n",
    "count_vogais = 0\n",
    "indices = []\n",
    "for i in range(len(frase)):\n",
    "    if frase[i] in \"aeiou\":\n",
    "        count_vogais += 1\n",
    "        indices.append(i)\n",
    "\n",
    "print(f\"{count_vogais} Vogais\")\n",
    "print(f\"Índices {indices}\")\n"
   ]
  },
  {
   "cell_type": "markdown",
   "id": "9def2f79-4754-4457-9fc9-59c1ddf3e236",
   "metadata": {},
   "source": [
    "6) Dada uma string e uma palavra objetivo, encontre todos os anagramas da palavra\r\n",
    "objetivo. Anagramas são palavras com os mesmos caracteres rearranjados.\r\n",
    "Digite umfrase : Meu amor mora em Roma e me deu um ramo de floresres\r\n",
    "Digite a palavra objetivo: amor\r\n",
    "Anagramas: [\"amor\", \"mora\", \"ramo\", \"Roma\"]\r"
   ]
  },
  {
   "cell_type": "code",
   "execution_count": 17,
   "id": "84fc791b-efda-4da8-8e3f-87736d0542de",
   "metadata": {},
   "outputs": [
    {
     "name": "stdin",
     "output_type": "stream",
     "text": [
      "Digite uma frase:  Meu amor mora em Roma e me deu um ramo de flores\n",
      "Digite a palavra objetivo:  amor\n"
     ]
    },
    {
     "name": "stdout",
     "output_type": "stream",
     "text": [
      "Anagramas: ['amor', 'mora', 'roma', 'ramo']\n"
     ]
    }
   ],
   "source": [
    "frase = str(input(\"Digite uma frase: \"))\n",
    "objetivo = str(input(\"Digite a palavra objetivo: \"))\n",
    "objetivo = sorted(objetivo)\n",
    "anagramas = []\n",
    "lst_palavras = frase.lower().split(\" \")\n",
    "for palavra in  lst_palavras:\n",
    "    if sorted(palavra) == objetivo:\n",
    "        anagramas.append(palavra)\n",
    "        \n",
    "print(\"Anagramas:\", anagramas)"
   ]
  },
  {
   "cell_type": "markdown",
   "id": "018289fa-1ecb-4ef5-b38f-83720b05d5af",
   "metadata": {},
   "source": [
    "7) Crie a função encrypt() que recebe uma lista de strings e retorna os nomes\r\n",
    "criptografados, bem como a chave da criptografia\n",
    " Regras:\r\n",
    "● Chave de criptografia: gere um valor n aleatório entre 1 e 10\r\n",
    "● Substitua cada caracter c pelo caracter c + n. Trabalharemos apenas com o\r\n",
    "intervalo de caracteres visíveis (entre 33 e 126 na tabela Unicode)\r\n",
    "nomes = [\"Luana\", \"Ju\", \"Davi\", \"Vivi\", \"Pri\", \"Luiz\"]\r\n",
    "chave_aleatoria = 5\r\n",
    "nomes_cript = ['Qzfsf', 'Oz', 'If{n', '[n{n', 'Uwn',] 'Qzn!'"
   ]
  },
  {
   "cell_type": "code",
   "execution_count": 3,
   "id": "601c991d-6e78-4468-b9e4-95e641650b02",
   "metadata": {},
   "outputs": [
    {
     "name": "stdout",
     "output_type": "stream",
     "text": [
      "SbhuhuQbuKhcpuCpcpuWypuSbpg\n"
     ]
    }
   ],
   "source": [
    "nomes = [\"Luana\", \"Ju\", \"Davi\", \"Vivi\", \"Pri\", \"Luiz\"]\n",
    "nomes = \" \".join(nomes)\n",
    "def encrypt(nomes,chave):\n",
    "    \n",
    "    cifra = ''\n",
    "    for i in range(len(nomes)):\n",
    "        char = nomes[i]\n",
    "        if (char.isupper()):\n",
    "            cifra += chr((ord(char) + chave - 65) % 26 + 65)\n",
    "        else:\n",
    "            cifra += chr((ord(char) + chave - 97) % 26 + 97)\n",
    "    return cifra\n",
    "    \n",
    "import random\n",
    "\n",
    "chave = random.randint(0,10)\n",
    "\n",
    "print(encrypt(nomes,chave))"
   ]
  },
  {
   "cell_type": "markdown",
   "id": "1a6f4e6c-81b1-48d9-8226-e2b7f65046b6",
   "metadata": {},
   "source": [
    "8) Desenvolva um validador de CPF. Solicite do usuário um CPF na forma\r\n",
    "XXX.XXX.XXX-XX (lido como string) e imprima \"Válido\" ou \"Inválido\".\r\n",
    "O primeiro passo é calcular o primeiro dígito verificador. Separamos os primeiros 9\r\n",
    "dígitos do CPF (ex: 111.444.777) e multiplicamos cada um dos números, da direita para\r\n",
    "a esquerda por números crescentes a partir do número 2, como no exemplo abaixo:\r\n",
    "CPF 1 1 1 4 4 4 7 7 7\r\n",
    "Multiplicador 10 9 8 7 6 5 4 3 2\r\n",
    "Resultado 10 9 8 28 24 20 28 21 14\r\n",
    "Em seguida somamos o resultado: 10+9+8+28+24+20+28+21+14 = 162\r\n",
    "Pegamos o resultado e dividimos por 11: 162 / 11 = 14 com resto 8\r\n",
    "● Se o resto da divisão for menor que 2, então o dígito é igual a 0 (Zero).\r\n",
    "● Se o resto da divisão for maior ou igual a 2, então o dígito verificador é igual a 11\r\n",
    "menos o resto da divisão (11 - resto).\r\n",
    "No nosso exemplo temos que o resto é 8 então faremos 11-8 = 3. Logo o primeiro\r\n",
    "dígito verificador é 3. Então sabemos que o CPF deve ser: \n",
    "\n",
    "Para calcular o segundo dígito vamos usar o primeiro dígito já calculado. Vamos\r\n",
    "montar a mesma tabela de multiplicação usada no cálculo do primeiro dígito. Só que\r\n",
    "desta vez usaremos na segunda linha os valores 11,10,9,8,7,6,5,4,3,2 já que estamos\r\n",
    "incluindo mais um dígito no cálcu\n",
    "\n",
    "Aplicamos a mesma regra que utilizamos para obter o primeiro dígito:\r\n",
    "● Se o resto da divisão for menor que 2, então o dígito é igual a 0 (Zero).\r\n",
    "● Se o resto da divisão for maior ou igual a 2, então o dígito é igual a 11 menos o\r\n",
    "resto da divisão (11 - resto).\n",
    "lo:\n",
    "\n",
    "O CPF de entrada deve ser considerado válido se os dígitos fornecidos pelo\r\n",
    "usuário forem os mesmos dígitos calculados através do processo acima.\r\n",
    "Exemplos válid              os Exemplos inválidos\r\n",
    "545.315.761-                52 545.315.761-12\r\n",
    "473.063.662                -70 473.063.662-98\r\n",
    "775.682.56                6-77 775.682.3566-1111.444.777-3X"
   ]
  },
  {
   "cell_type": "code",
   "execution_count": 268,
   "id": "b7f3fbf7-1170-4e7b-933e-82bfaf14bc11",
   "metadata": {},
   "outputs": [
    {
     "name": "stdin",
     "output_type": "stream",
     "text": [
      "Digite o CPF: 77568256613\n"
     ]
    },
    {
     "name": "stdout",
     "output_type": "stream",
     "text": [
      "775682566-77 \n",
      "CPF Ínvalido\n"
     ]
    }
   ],
   "source": [
    "cpf = str(input(\"Digite o CPF:\"))\n",
    "cpf = list(cpf)\n",
    "\n",
    "d10 = (cpf[9])\n",
    "d11 = (cpf[10])\n",
    "del(cpf[9:11])\n",
    "\n",
    "objetivo = -1\n",
    "mutiplicador = 11\n",
    "soma_digito = 0\n",
    "for i in range(9):\n",
    "    mutiplicador -= 1\n",
    "    objetivo += 1    \n",
    "    digito_verificado = int(cpf[objetivo])*(mutiplicador)\n",
    "    soma_digito += digito_verificado\n",
    "if (soma_digito % 11)<2:\n",
    "    digito_verificador1 = 0    \n",
    "elif (soma_digito % 11)>=2:\n",
    "    digito_verificador1 = 11 - (soma_digito  % 11)\n",
    "cpf.insert(10, str(digito_verificador1))\n",
    "\n",
    "objetivo = -1\n",
    "mutiplicador = 12\n",
    "soma_digito = 0\n",
    "for i in range(10):\n",
    "    mutiplicador -= 1\n",
    "    objetivo += 1    \n",
    "    digito_verificado = int(cpf[objetivo])*(mutiplicador)\n",
    "    soma_digito += digito_verificado\n",
    "if (soma_digito % 11)<2:\n",
    "    digito_verificador2 = 0    \n",
    "elif (soma_digito % 11)>=2:\n",
    "    digito_verificador2 = 11 - (soma_digito  % 11)\n",
    "\n",
    "cpf.insert(11, str(digito_verificador2))\n",
    "cpf.insert(9, \"-\")\n",
    "\n",
    "dv10 = (cpf[10])\n",
    "dv11 = (cpf[11])\n",
    "\n",
    "for i in range(len(cpf)):\n",
    "        print(cpf[i],end=\"\")\n",
    "print(\" \")    \n",
    "if d10 == dv10 and d11 == dv11:\n",
    "    print(\"CPF Válido\")\n",
    "else:\n",
    "    print(\"CPF Ínvalido\")\n",
    "\n"
   ]
  },
  {
   "cell_type": "code",
   "execution_count": null,
   "id": "272484c2-6a3d-468f-870e-8030e2262e1f",
   "metadata": {},
   "outputs": [],
   "source": []
  }
 ],
 "metadata": {
  "kernelspec": {
   "display_name": "Python 3 (ipykernel)",
   "language": "python",
   "name": "python3"
  },
  "language_info": {
   "codemirror_mode": {
    "name": "ipython",
    "version": 3
   },
   "file_extension": ".py",
   "mimetype": "text/x-python",
   "name": "python",
   "nbconvert_exporter": "python",
   "pygments_lexer": "ipython3",
   "version": "3.11.7"
  }
 },
 "nbformat": 4,
 "nbformat_minor": 5
}
