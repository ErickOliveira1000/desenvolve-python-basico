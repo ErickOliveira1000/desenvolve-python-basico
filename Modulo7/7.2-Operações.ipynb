{
 "cells": [
  {
   "cell_type": "markdown",
   "id": "bc57da91-e705-4979-b946-ffa6ae749f77",
   "metadata": {},
   "source": [
    "1) Faça um programa que solicite a data de nascimento (dd/mm/aaaa) do usuário e imprima a data com o nome do mês por extenso. \r\n",
    "Dica: usando listas você não precisa fazer um \"if\" para cada mês.\r\n",
    "Ex:\r\n",
    "Digite uma data de nascimento: 29/10/1973\r\n",
    "Você nasceu em  29 de Outubro de 1973."
   ]
  },
  {
   "cell_type": "code",
   "execution_count": 66,
   "id": "781f547b-f0ef-4ef9-b541-b6677dd06755",
   "metadata": {},
   "outputs": [
    {
     "name": "stdin",
     "output_type": "stream",
     "text": [
      "Digite uma data de nascimento: 29/10/1973\n"
     ]
    },
    {
     "name": "stdout",
     "output_type": "stream",
     "text": [
      "Você nasceu em \n",
      "29 de Outubro de 1973 "
     ]
    }
   ],
   "source": [
    "data = str(input(\"Digite uma data de nascimento:\"))\n",
    "data = data.split('/')\n",
    "mes = ['1','Janeiro', 'Fevereiro', 'Março', 'Abril', 'Maio', 'Junho', 'Julho', 'Agosto', 'Setembro', 'Outubro', 'Novembro',' Dezenbro']\n",
    "data[1] = mes[int(data[1])]\n",
    "data.insert(1, 'de')\n",
    "data.insert(3, 'de')\n",
    "print(\"Você nasceu em \")\n",
    "for i in data:\n",
    "    print(i, end=\" \")\n"
   ]
  },
  {
   "cell_type": "markdown",
   "id": "0d12e645-4ad6-4854-b863-6974b4be8e2c",
   "metadata": {},
   "source": [
    "2) Desenvolva um programa que solicite ao usuário inserir uma frase e substitua todas as ocorrências\n",
    "de vogal por \"*\".\n",
    "Ex:\n",
    "Digite uma frase: O rato roeu a roupa do rei\n",
    "Frase modificada: * r*t* r*** * r**p* d* r**"
   ]
  },
  {
   "cell_type": "code",
   "execution_count": 104,
   "id": "6919382a-0c9e-4bc6-a9da-51775a317bed",
   "metadata": {},
   "outputs": [
    {
     "name": "stdin",
     "output_type": "stream",
     "text": [
      "Digite uma frase: O rato roeu a roupa do rei\n"
     ]
    },
    {
     "name": "stdout",
     "output_type": "stream",
     "text": [
      "Frase modificada:* r*t* r*** * r**p* d* r**"
     ]
    }
   ],
   "source": [
    "frase = str(input(\"Digite uma frase:\"))\n",
    "frase = frase.lower()\n",
    "print(\"Frase modificada:\",end=\"\")    \n",
    "for i in frase:   \n",
    "    if i in \"aeiou\":\n",
    "        i = '*'\n",
    "    else:\n",
    "        i = i\n",
    "    print(i,end=\"\")\n"
   ]
  },
  {
   "cell_type": "markdown",
   "id": "f424e39c-d689-45ac-a935-c93b3a1808c5",
   "metadata": {},
   "source": [
    "3) Desenvolva um programa que verifique se uma frase fornecida pelo usuário é um palíndromo (ou seja, lida da mesma forma de trás para frente). Ignore espaços em branco ou sinais de pontuação, e considere maiúsculas e minúsculas da mesma forma. Seu programa deve continuar rodando até que o usuário digite \"Fim\".Ex:\r\n",
    "\r\n",
    "Digite uma frase (digite \"fim\" para encerrar): Radar\r\n",
    "\"Radar\" é palíndromo\r\n",
    "Digite uma frase (digite \"fim\" para encerrar): Bom dia!\r\n",
    "\"Bom dia!\" não é palíndromo\r\n",
    "Digite uma frase (digite \"fim\" para encerrar): Ame o poema\r\n",
    "\"Ame o poema\" é palíndromo\r\n",
    "Digite uma frase (digite \"fim\" para encerrar): A Daniela ama a lei? Nada!\r\n",
    "\"A Daniela ama a lei? Nada!\" é palíndromo\r\n",
    "Digite uma frase (digite \"fim\" para encerrar): fim"
   ]
  },
  {
   "cell_type": "code",
   "execution_count": 164,
   "id": "e8594a0a-738a-4e6e-b010-a2c5f6802600",
   "metadata": {},
   "outputs": [
    {
     "name": "stdin",
     "output_type": "stream",
     "text": [
      "Digite uma frase (digite fim para encerrar): Radar\n"
     ]
    },
    {
     "name": "stdout",
     "output_type": "stream",
     "text": [
      " Radar  é palíndromo\n"
     ]
    },
    {
     "name": "stdin",
     "output_type": "stream",
     "text": [
      "Digite uma frase (digite fim para encerrar): Bom dia!\n"
     ]
    },
    {
     "name": "stdout",
     "output_type": "stream",
     "text": [
      " Bom dia! não é palíndromo\n"
     ]
    },
    {
     "name": "stdin",
     "output_type": "stream",
     "text": [
      "Digite uma frase (digite fim para encerrar): Ame o poema\n"
     ]
    },
    {
     "name": "stdout",
     "output_type": "stream",
     "text": [
      " Ame o poema  é palíndromo\n"
     ]
    },
    {
     "name": "stdin",
     "output_type": "stream",
     "text": [
      "Digite uma frase (digite fim para encerrar): A Daniela ama a lei? Nada!\n"
     ]
    },
    {
     "name": "stdout",
     "output_type": "stream",
     "text": [
      " A Daniela ama a lei? Nada! não é palíndromo\n"
     ]
    },
    {
     "name": "stdin",
     "output_type": "stream",
     "text": [
      "Digite uma frase (digite fim para encerrar): fim\n"
     ]
    }
   ],
   "source": [
    "while True:\n",
    "    frase = str(input(\"Digite uma frase (digite fim para encerrar):\"))\n",
    "    if frase == \"fim\": break\n",
    "    frase1 = frase.lower()\n",
    "    indices = []\n",
    "    for i in frase1:\n",
    "        indices.append(i)\n",
    "        for i in indices:\n",
    "            if i == \" \":\n",
    "                indices.remove(i)\n",
    "    frase1 = list(frase1)\n",
    "    for i in frase1:\n",
    "        for i in frase1:\n",
    "            if i == \" \":\n",
    "                frase1.remove(i)\n",
    "    if frase1 == list(reversed(indices)):\n",
    "        print(f\" {frase}  é palíndromo\")\n",
    "    else:\n",
    "        print(f\" {frase} não é palíndromo\")\n"
   ]
  },
  {
   "cell_type": "markdown",
   "id": "5f364b08-40bf-4405-a56f-9f97d4647d0f",
   "metadata": {},
   "source": [
    "4) Implemente uma função em Python chamada validador_senha() que verifica se uma senha fornecida atende todos os seguintes critérios:\r\n",
    "Pelo menos 8 caracteres de comprimento.\r\n",
    "Contém pelo menos uma letra maiúscula e uma letra minúscula.\r\n",
    "Contém pelo menos um número.\r\n",
    "Contém pelo menos um caractere especial (por exemplo, @, #, $).\r\n",
    "Complete o seguinte código:\r\n",
    "def validador_senha(senha):\r\n",
    "    #### Escreva a função\r\n",
    "\r\n",
    "# Exemplo de uso:\r\n",
    "senha1 = \"Senha123@\"\r\n",
    "senha2 = \"senhafraca\"\r\n",
    "senha3 = \"Senha_fraca\"\r\n",
    "print(validador_senha(senha1))  # Saída esperada: True\r\n",
    "print(validador_senha(senha2))  # Saída esperada: False\r\n",
    "print(validador_senha(senha3))  # Saída esperada: False"
   ]
  },
  {
   "cell_type": "code",
   "execution_count": 3,
   "id": "61d23800-ac68-4249-81c6-822b4ecdc3ab",
   "metadata": {},
   "outputs": [
    {
     "name": "stdin",
     "output_type": "stream",
     "text": [
      "Digite sua senha:  Senha_fraca\n"
     ]
    },
    {
     "name": "stdout",
     "output_type": "stream",
     "text": [
      "False\n"
     ]
    }
   ],
   "source": [
    "import re\n",
    "\n",
    "senha = input(\"Digite sua senha: \")\n",
    "def validador_senha(senha):\n",
    "    if not (re.search(r'.{8,}', senha) and\n",
    "        re.search(r'[A-Z]', senha) and\n",
    "        re.search(r'\\d', senha) and\n",
    "        re.search(r'[!@#$%¨&*]', senha)):\n",
    "        return False\n",
    "    else:\n",
    "        return True\n",
    "print(validador_senha(senha))"
   ]
  },
  {
   "cell_type": "markdown",
   "id": "f6871075-7470-4956-950b-4698eff7703d",
   "metadata": {},
   "source": [
    "5) De acordo com uma pesquisa do linguista Matt Davis, o cérebro humano consegue ler palavras com as letras embaralhadas, contanto que a primeira e a última letra estejam no lugar correto. Implemente uma função chamada embaralhar_palavras() para ajudar a testar a hipótese do Matt Davis. Sua função vai receber uma frase, embaralhar as letras internas de cada palavra e retornar a frase modificada. Dica: use a biblioteca random.\r\n",
    "\r\n",
    "Complete o seguinte código:\r\n",
    "def embaralhar_palavras(frase):\r\n",
    "    #### Escreva a função\r\n",
    "\r\n",
    "# Exemplo de uso:\r\n",
    "frase = \"Python é uma linguagem de programação\"\r\n",
    "resultado = embaralhar_palavras(frase)\r\n",
    "print(resultado)\r\n",
    "# Possível saída: \"Ptohyn é uma lignaugem de prarmoagãço\""
   ]
  },
  {
   "cell_type": "code",
   "execution_count": 1,
   "id": "68931035-190e-4bf3-84c5-b2e2afe89e20",
   "metadata": {},
   "outputs": [
    {
     "name": "stdout",
     "output_type": "stream",
     "text": [
      "hPynot é mua igumelnga de oogrãparmça "
     ]
    }
   ],
   "source": [
    "import random\n",
    "frase = \"Python é uma linguagem de programação\"\n",
    "frase = frase.split()\n",
    "for linha in frase:\n",
    "    linha = list(linha.strip())\n",
    "    random.shuffle(linha)\n",
    "    result = ''.join(linha)\n",
    "    print(result, end=' ')"
   ]
  },
  {
   "cell_type": "code",
   "execution_count": null,
   "id": "f26409e8-575b-4ffb-abde-065d3f821b42",
   "metadata": {},
   "outputs": [],
   "source": []
  }
 ],
 "metadata": {
  "kernelspec": {
   "display_name": "Python 3 (ipykernel)",
   "language": "python",
   "name": "python3"
  },
  "language_info": {
   "codemirror_mode": {
    "name": "ipython",
    "version": 3
   },
   "file_extension": ".py",
   "mimetype": "text/x-python",
   "name": "python",
   "nbconvert_exporter": "python",
   "pygments_lexer": "ipython3",
   "version": "3.11.7"
  }
 },
 "nbformat": 4,
 "nbformat_minor": 5
}
