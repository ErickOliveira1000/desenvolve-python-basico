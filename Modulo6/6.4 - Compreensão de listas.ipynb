{
 "cells": [
  {
   "cell_type": "markdown",
   "id": "6f42adb4-0768-4451-8d63-32187d4bf60c",
   "metadata": {},
   "source": [
    "1) Escreva um script python que use compreensão de listas para criar as seguintes listas:\r\n",
    "Todos os números pares entre 20 e 50, ou seja, [20, 22, 24, …, 48, 50]\r\n",
    "Os quadrados de todos os valores da lista [1,2,3,4,5,6,7,8,9]\r\n",
    "Todos os números entre 1 e 100 que sejam divisíveis por 7\r\n",
    "Para todos os valores em range(0,30,3), escreva \"par\" ou \"ímpar\" dependendo da paridade do elemento (ex: ['par', 'impar',… , 'impar']) "
   ]
  },
  {
   "cell_type": "code",
   "execution_count": 74,
   "id": "94903793-2a29-4b11-b8ec-cf25760a5d94",
   "metadata": {},
   "outputs": [
    {
     "name": "stdout",
     "output_type": "stream",
     "text": [
      "Números pares entre 20 e 50: [20, 22, 24, 26, 28, 30, 32, 34, 36, 38, 40, 42, 44, 46, 48, 50]\n",
      "Quadrados de 1 a 9: [1, 4, 9, 16, 25, 36, 49, 64, 81]\n",
      "Múltiplos de 7 entre 0 e 100: [7, 14, 21, 28, 35, 42, 49, 56, 63, 70, 77, 84, 91, 98]\n",
      "Paridade em range(0, 30, 3): ['par', 'ímpar', 'par', 'ímpar', 'par', 'ímpar', 'par', 'ímpar', 'par', 'ímpar']\n"
     ]
    }
   ],
   "source": [
    "nums = list(range(20, 52, 2))\n",
    "print(\"Números pares entre 20 e 50:\",nums)\n",
    "\n",
    "quadrados = list(map(lambda x: x*x, (list(range(1,10)))))\n",
    "print(\"Quadrados de 1 a 9:\", quadrados)\n",
    "\n",
    "lista = list(range(1, 100))\n",
    "lista1 = [lista[i] for i in range(len(lista)) if lista[i]%7==0]\n",
    "print(\"Múltiplos de 7 entre 0 e 100:\", lista1)\n",
    "\n",
    "paridade = list(map(lambda x: \"par\" if(x%2==0) else \"ímpar\" , (list(range(0, 30, 3)))))\n",
    "print(\"Paridade em range(0, 30, 3):\", paridade)"
   ]
  },
  {
   "cell_type": "markdown",
   "id": "9b082950-3f9e-4f78-b4e3-ac57e65bbc9c",
   "metadata": {},
   "source": [
    "2) Solicite uma frase do usuário e usando compreensão de listas imprima:\r\n",
    "A lista de vogais da frase, ordenada alfabeticamente\r\n",
    "A lista de consoantes da frase\r\n",
    "Exemplo:\r\n",
    "Digite uma frase: Eu gosto de programar em Python\r\n",
    "Vogais: ['a', 'a', 'e', 'e', 'o', 'o', 'o', 'o', 'u']\r\n",
    "Consoantes: ['E', 'g', 's', 't', 'd', 'p', 'r', 'g', 'r', 'm', 'r', 'm', 'P', 'y', 't', 'h', 'n']"
   ]
  },
  {
   "cell_type": "code",
   "execution_count": 94,
   "id": "bde7df23-8720-481b-b0fa-9ad1053a0c5c",
   "metadata": {},
   "outputs": [
    {
     "name": "stdin",
     "output_type": "stream",
     "text": [
      "Digite uma frase: Eu gosto de programar em Python\n"
     ]
    },
    {
     "name": "stdout",
     "output_type": "stream",
     "text": [
      "Vogais: ['a', 'a', 'e', 'e', 'o', 'o', 'o', 'o', 'u']\n",
      "Vogais ['E', 'g', 's', 't', 'd', 'p', 'r', 'g', 'r', 'm', 'r', 'm', 'P', 'y', 't', 'h', 'n']\n"
     ]
    }
   ],
   "source": [
    "frase = str(input(\"Digite uma frase:\"))\n",
    "lista = [frase[i] for i in range(len(frase)) if frase[i] in \"aeiou\"]\n",
    "lista1 = [frase[i] for i in range(len(frase)) if frase[i] not in \"aeiou\" ]\n",
    "lista3 = [lista1[i] for i in range(len(lista1)) if lista1[i] not in \" \"]\n",
    "print(\"Vogais:\", sorted(lista))\n",
    "print(\"Vogais\", lista3)"
   ]
  },
  {
   "cell_type": "markdown",
   "id": "3b1086f8-a987-4562-af60-4d9cc60734c3",
   "metadata": {},
   "source": [
    "3) Reescreva o código a seguir para construir a lista pagamentos usando compreensão de listas, ou seja, eliminando o laço de repetição.\n",
    "\n",
    "horas_trabalhadas = [40, 37, 45, 40, 40, 48]\n",
    "ganho_por_hora = 20\n",
    "hora_extra = 25\n",
    "pagamentos = []\n",
    "for hora in horas_trabalhadas:\n",
    "    pagamentos.append(ganho_por_hora * min(hora, 40) + \\\n",
    "                                         hora_extra * max(0, hora-40))\n",
    "print(pagamentos)"
   ]
  },
  {
   "cell_type": "code",
   "execution_count": 1,
   "id": "c3fc7dc9-b09a-43db-9229-a0cced27e67c",
   "metadata": {},
   "outputs": [
    {
     "data": {
      "text/plain": [
       "[800, 740, 925, 800, 800, 1000]"
      ]
     },
     "execution_count": 1,
     "metadata": {},
     "output_type": "execute_result"
    }
   ],
   "source": [
    "horas_trabalhadas = [40, 37, 45, 40, 40, 48]\n",
    "ganho_por_hora = 20\n",
    "hora_extra = 25\n",
    "pagamentos = [ganho_por_hora * min(hora, 40) + \\\n",
    "             hora_extra * max(0, hora-40)\n",
    "             for hora in horas_trabalhadas]\n",
    "pagamentos"
   ]
  },
  {
   "cell_type": "markdown",
   "id": "a58b1fd2-12bc-4058-878f-c448ed9b4252",
   "metadata": {},
   "source": [
    "4) Reescreva o código a seguir para construir a lista aprovados usando compreensão de listas, ou seja, eliminando o laço de repetição.\n",
    "\n",
    "alunos = [\"Maria\", \"Jose\", \"Carla\", \"Sol\"]\n",
    "notas = [35, 50, 20, 80]\n",
    "aprovados = []\n",
    "for i in range(len(notas)):\n",
    "    if notas[i] >= 60:\n",
    "        aprovados.append(alunos[i])"
   ]
  },
  {
   "cell_type": "code",
   "execution_count": 33,
   "id": "9d0e37aa-4a28-48dd-b48e-e487dce7a6df",
   "metadata": {},
   "outputs": [
    {
     "data": {
      "text/plain": [
       "['Sol']"
      ]
     },
     "execution_count": 33,
     "metadata": {},
     "output_type": "execute_result"
    }
   ],
   "source": [
    "alunos = [\"Maria\", \"Jose\", \"Carla\", \"Sol\"]\n",
    "notas = [35, 50, 20, 80]\n",
    "aprovados = [alunos[i] for i in range(len(alunos)) if notas[i] >= 60]\n",
    "aprovados"
   ]
  }
 ],
 "metadata": {
  "kernelspec": {
   "display_name": "Python 3 (ipykernel)",
   "language": "python",
   "name": "python3"
  },
  "language_info": {
   "codemirror_mode": {
    "name": "ipython",
    "version": 3
   },
   "file_extension": ".py",
   "mimetype": "text/x-python",
   "name": "python",
   "nbconvert_exporter": "python",
   "pygments_lexer": "ipython3",
   "version": "3.11.7"
  }
 },
 "nbformat": 4,
 "nbformat_minor": 5
}
