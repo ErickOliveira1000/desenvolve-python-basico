{
 "cells": [
  {
   "cell_type": "markdown",
   "id": "e5df1897-e090-4f11-8510-bee58a98429b",
   "metadata": {},
   "source": [
    "1) Escreva um script em Python que solicita do usuário uma quantidade indefinida de números inteiros (pelo menos 4 valores), os armazena em uma lista e, usando fatiamento de listas, imprima:\r\n",
    "A lista original\r\n",
    "Os 3 primeiros elementos\r\n",
    "Os 2 últimos elementos\r\n",
    "A lista invertida (do fim para o começo)\r\n",
    "Os elementos de índice par (0, 2, 4 … )\r\n",
    "Os elementos de índice ímpar (1, 3, 5, … )"
   ]
  },
  {
   "cell_type": "code",
   "execution_count": 88,
   "id": "99cd27dc-4f81-4187-a69b-481107647e4b",
   "metadata": {},
   "outputs": [
    {
     "name": "stdin",
     "output_type": "stream",
     "text": [
      "Digite quantos números terá sua lista (mínimo 4 números inteiros): 6\n",
      " 12\n",
      " 34\n",
      " 13\n",
      " 56\n",
      " 78\n",
      " 18\n"
     ]
    },
    {
     "name": "stdout",
     "output_type": "stream",
     "text": [
      "[12, 34, 13, 56, 78, 18]\n",
      "[12, 34, 13]\n",
      "[18, 78, 56]\n",
      "[18, 78, 56, 13, 34, 12]\n",
      "[12, 13, 78]\n",
      "[34, 56, 18]\n"
     ]
    }
   ],
   "source": [
    "x = int(input(\"Digite quantos números terá sua lista (mínimo 4 números inteiros):\"))\n",
    "lista = []\n",
    "for i in range(x):\n",
    "    n = int(input())\n",
    "    lista.append(n)\n",
    "\n",
    "print(lista)\n",
    "print(lista[0:3])\n",
    "print(lista[:2:-1])\n",
    "print(lista[::-1])\n",
    "print(lista[::2])\n",
    "print(lista[1::2])"
   ]
  },
  {
   "cell_type": "markdown",
   "id": "c4c02dc7-b050-494c-bcee-4a8ce597bad1",
   "metadata": {},
   "source": [
    "2) Dada uma lista de endereços web (URLs) que sempre começam com \"www.\" e sempre terminam com \".com\", use o conceito de fatiamento de listas para criar uma lista domínios com o nome principal de todas as URLs, conforme exemplo a seguir.\r\n",
    "\r\n",
    "URLs: [\"www.google.com&quot;, \"www.gmail.com&quot;, \"www.github.com&quot;, \"www.reddit.com&quot;, \"www.yahoo.com&quot;]\r\n",
    "dominios:  [\"google\", \"gmail\", \"github\", \"reddit\", \"yahoo\"]"
   ]
  },
  {
   "cell_type": "code",
   "execution_count": 62,
   "id": "21071236-8900-4d85-aa2c-aaa3a9ec201d",
   "metadata": {},
   "outputs": [
    {
     "name": "stdout",
     "output_type": "stream",
     "text": [
      "URLs: ['www.google.com', 'www.gmail.com', 'www.github.com', 'www.reddit.com', 'www.yahoo.com']\n",
      "dominios: ['google', 'gmail', 'github', 'reddit', 'yahoo']\n"
     ]
    }
   ],
   "source": [
    "url =  [\"www.google.com\", \"www.gmail.com\", \"www.github.com\", \"www.reddit.com\", \"www.yahoo.com\"]\n",
    "print(\"URLs:\", url)\n",
    "dominio1 = []\n",
    "for i in url:\n",
    "    dominio = i\n",
    "    dominio1.append(dominio[4:-4])\n",
    "print(\"dominios:\", dominio1)"
   ]
  },
  {
   "cell_type": "markdown",
   "id": "fc048c6e-fe7c-4463-a31a-50460a46b156",
   "metadata": {},
   "source": [
    "3) Crie uma lista com 20 elementos, entre -10 e 10, gerados aleatoriamente. Em seguida encontre o intervalo que possui a maior quantidade de números negativos e delete ele da lista com o operador del. Você deve imprimir a lista antes e depois da deleção.\n",
    "\n",
    "Original: [9, 2, -1, 4, -2, -3, 5, 6, -7, -4, -1, 6, 8, -3, -6]\n",
    "Editada:  [9, 2, -1, 4, -2, -3, 5, 6, 6, 8, -3, -6]"
   ]
  },
  {
   "cell_type": "code",
   "execution_count": 1,
   "id": "4a1b70f7-e053-4300-bf59-74e4cf9d20b5",
   "metadata": {},
   "outputs": [
    {
     "name": "stdout",
     "output_type": "stream",
     "text": [
      "Original: [-5, -4, -6, -1, -7, 3, 1, -4, -10, 9, 8, -8, -2, -7, 7, 2, -6, 5, 0, -2]\n",
      "Editada: [3, 1, -4, -10, 9, 8, -8, -2, -7, 7, 2, -6, 5, 0, -2]\n"
     ]
    }
   ],
   "source": [
    "import random\n",
    "nums = [random.randint(-10,10) for i in range(20)]\n",
    "\n",
    "print(\"Original:\", nums)\n",
    "\n",
    "inicio_fatia_maior, tam_fatia_maior = 0, 0\n",
    "inicio_fatia_atual, tam_fatia_atual = 0, 0\n",
    "\n",
    "for i in range(len(nums)):\n",
    "    if nums[i] < 0:\n",
    "        tam_fatia_atual += 1\n",
    "        if tam_fatia_atual == 1:\n",
    "            inicio_fatia_atual = i\n",
    "    else: # if nums[i] >= 0\n",
    "        if tam_fatia_atual > tam_fatia_maior:\n",
    "            tam_fatia_maior = tam_fatia_atual\n",
    "            inicio_fatia_maior = inicio_fatia_atual\n",
    "        tam_fatia_atual = 0\n",
    "\n",
    "del nums[inicio_fatia_maior:inicio_fatia_maior+tam_fatia_maior]\n",
    "\n",
    "print(\"Editada:\", nums)"
   ]
  },
  {
   "cell_type": "code",
   "execution_count": null,
   "id": "364687a0-89b3-4381-8999-824d43632cfe",
   "metadata": {},
   "outputs": [],
   "source": []
  }
 ],
 "metadata": {
  "kernelspec": {
   "display_name": "Python 3 (ipykernel)",
   "language": "python",
   "name": "python3"
  },
  "language_info": {
   "codemirror_mode": {
    "name": "ipython",
    "version": 3
   },
   "file_extension": ".py",
   "mimetype": "text/x-python",
   "name": "python",
   "nbconvert_exporter": "python",
   "pygments_lexer": "ipython3",
   "version": "3.11.7"
  }
 },
 "nbformat": 4,
 "nbformat_minor": 5
}
