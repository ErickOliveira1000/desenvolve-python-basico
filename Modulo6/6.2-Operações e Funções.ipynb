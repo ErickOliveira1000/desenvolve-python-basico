{
 "cells": [
  {
   "cell_type": "code",
   "execution_count": 5,
   "id": "73058e9b-712b-41e7-80d3-9a1a27004696",
   "metadata": {},
   "outputs": [
    {
     "name": "stdout",
     "output_type": "stream",
     "text": [
      "[-100, -87, -77, -66, -54, -51, -47, -26, -21, 11, 17, 22, 25, 41, 43, 47, 47, 53, 53, 65]\n",
      "[-21, -47, 47, -51, -66, 41, -54, 53, -87, 43, 25, 17, 47, -77, -26, 65, -100, 11, 53, 22]\n",
      "O maior valor está no índice: 15\n",
      "O menor valor está no índice: 16\n"
     ]
    }
   ],
   "source": [
    "#Questão 1)\n",
    "\n",
    "import random\n",
    "\n",
    "#Construção da lista de valores aleatórios\n",
    "aleatorios = []\n",
    "for i in range(20):\n",
    "    valor = random.randint(-100, 100)\n",
    "    aleatorios.append(valor)\n",
    "\n",
    "print(sorted(aleatorios))\n",
    "print(aleatorios)\n",
    "print(\"O maior valor está no índice:\", aleatorios.index(max(aleatorios)))\n",
    "print(\"O menor valor está no índice:\", aleatorios.index(min(aleatorios)))      \n",
    "\n",
    "\n",
    "\n"
   ]
  },
  {
   "cell_type": "code",
   "execution_count": 3,
   "id": "20cd3783-14ed-4f44-a900-e9ec79d0f034",
   "metadata": {},
   "outputs": [
    {
     "name": "stdout",
     "output_type": "stream",
     "text": [
      "Lista: [7, 4, 4, 5, 1, 7, 3, 3, 9]\n",
      "Soma dos valores da Lista: 43\n",
      "Média dos valores da Lista: 4.78\n"
     ]
    }
   ],
   "source": [
    "#Questão 2)\n",
    "\n",
    "import random, math\n",
    "\n",
    "for i in range(1):\n",
    "    num_elementos = random.randint(5, 20)\n",
    "    \n",
    "elementos = [] \n",
    "soma = 0\n",
    "for i in range(num_elementos):\n",
    "    valor = random.randint(1, 10)\n",
    "    elementos.append(valor)\n",
    "    soma += valor\n",
    "    \n",
    "media = soma/num_elementos    \n",
    "print(\"Lista:\", elementos)\n",
    "print(\"Soma dos valores da Lista:\", soma)\n",
    "print(f\"Média dos valores da Lista: {media:.2f}\")"
   ]
  },
  {
   "cell_type": "code",
   "execution_count": 54,
   "id": "8dba29b1-4db0-4c53-8d42-29da77de7e0d",
   "metadata": {},
   "outputs": [
    {
     "name": "stdout",
     "output_type": "stream",
     "text": [
      "Lista 1- [3, 8, 8, 9, 12, 19, 24, 25, 27, 29, 29, 29, 31, 34, 35, 36, 40, 41, 44, 47]\n",
      "Lista 2- [2, 3, 6, 7, 19, 24, 24, 25, 26, 29, 32, 37, 37, 39, 40, 43, 46, 47, 49, 50]\n",
      "Interseção _ [3, 19, 24, 25, 29, 40, 47]\n",
      "Contagem\n",
      "3: (Lista1= 1, Lista2= 1)\n",
      "19: (Lista1= 1, Lista2= 1)\n",
      "24: (Lista1= 1, Lista2= 2)\n",
      "25: (Lista1= 1, Lista2= 1)\n",
      "29: (Lista1= 3, Lista2= 1)\n",
      "40: (Lista1= 1, Lista2= 1)\n",
      "47: (Lista1= 1, Lista2= 1)\n"
     ]
    }
   ],
   "source": [
    "#Questão 3)\n",
    "\n",
    "import random\n",
    "\n",
    "#Construção da lista de valores aleatórios\n",
    "lista1, lista2 = [], []\n",
    "for i in range(20):\n",
    "    lista1.append(random.randint(0, 50))\n",
    "    lista2.append(random.randint(0, 50))\n",
    "\n",
    "\n",
    "print(\"Lista 1-\", sorted(lista1))\n",
    "print(\"Lista 2-\", sorted(lista2))\n",
    "\n",
    "inters = []\n",
    "# caminhar em uma lista, e verificar\n",
    "# a participação de cada elemento na \n",
    "# segunda lista\n",
    "\n",
    "for elemento in lista1:\n",
    "    if elemento in lista2 and elemento not in inters:\n",
    "        inters.append(elemento)\n",
    "\n",
    "inters.sort()\n",
    "print(\"Interseção _\", inters)\n",
    "print(\"Contagem\")\n",
    "for i in inters:\n",
    "    print(f\"{i}: (Lista1= {lista1.count(i)}, Lista2= {lista2.count(i)})\")\n",
    "\n",
    "\n"
   ]
  },
  {
   "cell_type": "code",
   "execution_count": 67,
   "id": "a48acad7-880b-4083-90c5-33367feea584",
   "metadata": {},
   "outputs": [
    {
     "name": "stdin",
     "output_type": "stream",
     "text": [
      "Digite a quantidade de elementos da Lista 1: 4\n"
     ]
    },
    {
     "name": "stdout",
     "output_type": "stream",
     "text": [
      "Digite os 4 elementos da Lista 1:\n"
     ]
    },
    {
     "name": "stdin",
     "output_type": "stream",
     "text": [
      " 1\n",
      " 2\n",
      " 3\n",
      " 4\n",
      "Digite a quantidade de elementos da Lista 2: 6\n"
     ]
    },
    {
     "name": "stdout",
     "output_type": "stream",
     "text": [
      "Digite os 6 elementos da Lista 2:\n"
     ]
    },
    {
     "name": "stdin",
     "output_type": "stream",
     "text": [
      " 5\n",
      " 6\n",
      " 7\n",
      " 8\n",
      " 9\n",
      " 10\n"
     ]
    },
    {
     "name": "stdout",
     "output_type": "stream",
     "text": [
      "Lista Intercalada:[1, 5, 2, 6, 3, 7, 4, 8, 9, 10]\n"
     ]
    }
   ],
   "source": [
    "#Questão 4)\n",
    "\n",
    "n1 = int(input(\"Digite a quantidade de elementos da Lista 1:\")) #Entrada da quantidade de elementos da lista1\n",
    "print(f\"Digite os {n1} elementos da Lista 1:\")\n",
    "\n",
    "lista1 = []\n",
    "for i in range(n1):\n",
    "    lista1.append(int(input()))  #Elementos da lista1\n",
    "\n",
    "n2 = int(input(\"Digite a quantidade de elementos da Lista 2:\")) #Entrada da quantidade de elementos da lista2\n",
    "print(f\"Digite os {n2} elementos da Lista 2:\")\n",
    "\n",
    "lista2 = []\n",
    "for i in range(n2):\n",
    "    lista2.append(int(input()))  #Elementos da lista2\n",
    "\n",
    "lista3 = []   #Lista3 recebe os elementos intercalados da lista1 e lista2 excluindo os exedentes de uma das listas\n",
    "\n",
    "if len(lista1) > len(lista2):     #Se a quantidade de elementos da lista1 for maior que da lista2\n",
    "    lista3a = lista1[n2:n1]       #Lista3a recebe os elementos exedentes de uma da lista1\n",
    "    for index in range(len(lista1)-(n1-n2)):\n",
    "        lista3.append(lista1[index])\n",
    "        lista3.append(lista2[index])\n",
    "elif len(lista1) < len(lista2):   #Se a quantidade de elementos da lista1 for menor que da lista2\n",
    "    lista3a = lista2[n1:n2]       #Lista3a recebe os elementos exedentes de uma da lista2\n",
    "    for index in range(len(lista2)-(n2-n1)):\n",
    "        lista3.append(lista1[index])\n",
    "        lista3.append(lista2[index])\n",
    "elif len(lista1) == len(lista2):   #Se a quantidade de elementos da lista1 for igual que da lista2\n",
    "    for index in range(len(lista1)):\n",
    "        lista3.append(lista1[index])\n",
    "        lista3.append(lista2[index])\n",
    " \n",
    "print(f\"Lista Intercalada:{lista3+lista3a}\")"
   ]
  },
  {
   "cell_type": "code",
   "execution_count": null,
   "id": "8ca4324b-79e3-45c0-bdfa-1e6a70781d90",
   "metadata": {},
   "outputs": [],
   "source": []
  }
 ],
 "metadata": {
  "kernelspec": {
   "display_name": "Python 3 (ipykernel)",
   "language": "python",
   "name": "python3"
  },
  "language_info": {
   "codemirror_mode": {
    "name": "ipython",
    "version": 3
   },
   "file_extension": ".py",
   "mimetype": "text/x-python",
   "name": "python",
   "nbconvert_exporter": "python",
   "pygments_lexer": "ipython3",
   "version": "3.11.7"
  }
 },
 "nbformat": 4,
 "nbformat_minor": 5
}
