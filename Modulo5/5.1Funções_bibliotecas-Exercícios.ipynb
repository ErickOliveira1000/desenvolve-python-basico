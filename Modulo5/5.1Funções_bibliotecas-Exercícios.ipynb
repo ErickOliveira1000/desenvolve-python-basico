{
 "cells": [
  {
   "cell_type": "code",
   "execution_count": 13,
   "id": "f347d3ee-6dcb-440d-86dd-9771d1c136c2",
   "metadata": {},
   "outputs": [
    {
     "name": "stdin",
     "output_type": "stream",
     "text": [
      "Digite o primeiro número: 3.1415\n",
      "Digite o segundo número: 1.4142\n"
     ]
    },
    {
     "name": "stdout",
     "output_type": "stream",
     "text": [
      "A diferença absoluta entre os números é: 1.73\n"
     ]
    }
   ],
   "source": [
    "#Questão  1)\n",
    "n1 = float(input(\"Digite o primeiro número:\")) #3.1415\n",
    "n2 = float(input(\"Digite o segundo número:\")) # 1.4142\n",
    "\n",
    "diferença = abs(n1) - abs(n2)\n",
    "diferença = round(diferença,2)\n",
    "\n",
    "print(\"A diferença absoluta entre os números é:\", diferença) # 1.73"
   ]
  },
  {
   "cell_type": "code",
   "execution_count": 1,
   "id": "bd56c0a9-d724-41ea-aa48-398d36f47434",
   "metadata": {},
   "outputs": [
    {
     "name": "stdin",
     "output_type": "stream",
     "text": [
      "Digite a quantidade de valores 25\n"
     ]
    },
    {
     "name": "stdout",
     "output_type": "stream",
     "text": [
      "80\n",
      "4\n",
      "39\n",
      "53\n",
      "64\n",
      "11\n",
      "30\n",
      "84\n",
      "44\n",
      "67\n",
      "81\n",
      "42\n",
      "61\n",
      "91\n",
      "69\n",
      "46\n",
      "65\n",
      "39\n",
      "86\n",
      "37\n",
      "61\n",
      "50\n",
      "20\n",
      "72\n",
      "82\n",
      "1378\n",
      "A raiz quadrada da soma é, 37.12\n"
     ]
    }
   ],
   "source": [
    "\"#Questão 2)\n",
    "import random, math\n",
    "\n",
    "n = int(input(\"Digite a quantidade de valores\"))\n",
    "soma = 0\n",
    "for i in range(n):\n",
    "    valor = random.randint(0, 100)\n",
    "    print(valor)\n",
    "    soma += valor\n",
    "\n",
    "print(soma)\n",
    "print(f\"A raiz quadrada da soma é, {math.sqrt(soma):.2f}\")\n"
   ]
  },
  {
   "cell_type": "code",
   "execution_count": 29,
   "id": "8ee566cc-9c06-4435-b912-dd28183e208d",
   "metadata": {},
   "outputs": [
    {
     "name": "stdout",
     "output_type": "stream",
     "text": [
      "8\n"
     ]
    },
    {
     "name": "stdin",
     "output_type": "stream",
     "text": [
      "Adivinhe o número entre 1 e 10:  9\n"
     ]
    },
    {
     "name": "stdout",
     "output_type": "stream",
     "text": [
      "Muito alto, tente novamente!\n"
     ]
    },
    {
     "name": "stdin",
     "output_type": "stream",
     "text": [
      "Adivinhe o número entre 1 e 10:  8\n"
     ]
    },
    {
     "name": "stdout",
     "output_type": "stream",
     "text": [
      "Correto! O número é 8.\n"
     ]
    }
   ],
   "source": [
    "#Questão 3)\n",
    "\n",
    "import random\n",
    "\n",
    "for i in range(1):\n",
    "    valor = random.randint(1, 10)\n",
    "    print(valor)\n",
    "\n",
    "\n",
    "\n",
    "while True:\n",
    "    n = int(input(\"Adivinhe o número entre 1 e 10: \"))\n",
    "    if n == valor:break        \n",
    "    if n < valor:\n",
    "        print(\"Muito baixo, tente novamente!\")\n",
    "        n = valor\n",
    "    elif n > valor:\n",
    "        print(\"Muito alto, tente novamente!\")\n",
    "        n = valor\n",
    "        \n",
    "print(f\"Correto! O número é {valor}.\")\n",
    "\n"
   ]
  },
  {
   "cell_type": "code",
   "execution_count": 48,
   "id": "d004f71e-59b8-462a-a8af-fa202f4b1a00",
   "metadata": {},
   "outputs": [
    {
     "name": "stdout",
     "output_type": "stream",
     "text": [
      "Data: 21/5/2024\n",
      "Hora: 15:21\n"
     ]
    }
   ],
   "source": [
    "#Questão 4)\n",
    "\n",
    "from datetime import datetime\n",
    "\n",
    "data_atual = date.today()\n",
    "data_em_texto = '{}/{}/{}' .format(data_atual.day, data_atual.month, data_atual.year)\n",
    "print(\"Data:\", data_em_texto)\n",
    "\n",
    "hora_atual = datetime.now()\n",
    "hora_formatada = '{}:{}' .format(hora_atual.hour, hora_atual.minute)\n",
    "print(\"Hora:\", hora_formatada)"
   ]
  },
  {
   "cell_type": "code",
   "execution_count": null,
   "id": "222777bf-76b1-4c47-912e-5e694139bacd",
   "metadata": {},
   "outputs": [],
   "source": []
  }
 ],
 "metadata": {
  "kernelspec": {
   "display_name": "Python 3 (ipykernel)",
   "language": "python",
   "name": "python3"
  },
  "language_info": {
   "codemirror_mode": {
    "name": "ipython",
    "version": 3
   },
   "file_extension": ".py",
   "mimetype": "text/x-python",
   "name": "python",
   "nbconvert_exporter": "python",
   "pygments_lexer": "ipython3",
   "version": "3.11.7"
  }
 },
 "nbformat": 4,
 "nbformat_minor": 5
}
