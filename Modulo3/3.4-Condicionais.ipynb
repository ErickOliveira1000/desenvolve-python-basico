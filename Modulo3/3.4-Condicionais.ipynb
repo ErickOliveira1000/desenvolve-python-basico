{
 "cells": [
  {
   "cell_type": "code",
   "execution_count": 2,
   "id": "c7b2c2b3-9eb4-4de1-a409-1a9f57dbb488",
   "metadata": {},
   "outputs": [
    {
     "name": "stdin",
     "output_type": "stream",
     "text": [
      "Digite um número: 9\n"
     ]
    },
    {
     "name": "stdout",
     "output_type": "stream",
     "text": [
      "Ímpar\n"
     ]
    }
   ],
   "source": [
    "#Questão 1)\n",
    "\n",
    "n = int(input(\"Digite um número:\"))\n",
    "\n",
    "if n % 2 == 0:\n",
    "    print(\"Par\")\n",
    "else:\n",
    "    print(\"Ímpar\")"
   ]
  },
  {
   "cell_type": "code",
   "execution_count": 8,
   "id": "df3363be-1db0-46df-af68-f5bece8b07cd",
   "metadata": {},
   "outputs": [
    {
     "name": "stdin",
     "output_type": "stream",
     "text": [
      "Faça uma avaliaçao de, 1(Ruim) a 5(Exelente), do filme O senhor dos Áneis: 3\n"
     ]
    },
    {
     "name": "stdout",
     "output_type": "stream",
     "text": [
      "Bom\n"
     ]
    }
   ],
   "source": [
    "#Questão 2)\n",
    "\n",
    "n = int(input(\"Faça uma avaliaçao de, 1(Ruim) a 5(Exelente), do filme O senhor dos Áneis:\"))\n",
    "\n",
    "if n == 1:\n",
    "    print(\"Ruim\")\n",
    "elif n == 2:\n",
    "    print(\"Regular\")\n",
    "elif n == 3:\n",
    "    print(\"Bom\")\n",
    "elif n == 4:\n",
    "    print(\"Muito bom\")\n",
    "elif n == 5:\n",
    "    print(\"Exelente\")"
   ]
  },
  {
   "cell_type": "code",
   "execution_count": 22,
   "id": "f9344337-b354-4ed3-aaa0-931e24490a6b",
   "metadata": {},
   "outputs": [
    {
     "name": "stdin",
     "output_type": "stream",
     "text": [
      "Digite o ano que você deseja saber se é Bissexto ou Não: 2017\n"
     ]
    },
    {
     "name": "stdout",
     "output_type": "stream",
     "text": [
      "Não Bissexto\n"
     ]
    }
   ],
   "source": [
    "#Qkuestão 3)\n",
    "\n",
    "n = int(input(\"Digite o ano que você deseja saber se é Bissexto ou Não:\"))\n",
    "\n",
    "if n % 4 == 0 and n % 100 != 0 or n % 400 == 0:\n",
    "    print(\"Bissexto\")\n",
    "else:\n",
    "    print(\"Não Bissexto\")"
   ]
  },
  {
   "cell_type": "code",
   "execution_count": 16,
   "id": "e782b836-2dcc-4b15-96dc-60becb6bc07c",
   "metadata": {},
   "outputs": [
    {
     "name": "stdout",
     "output_type": "stream",
     "text": [
      "Para calcular o frete digite a distância e o peso do pacote.\n"
     ]
    },
    {
     "name": "stdin",
     "output_type": "stream",
     "text": [
      "Digite a distância em Km: 305\n",
      "Digite o peso em Kg: 12\n"
     ]
    },
    {
     "name": "stdout",
     "output_type": "stream",
     "text": [
      "O valor do frete é: 34\n"
     ]
    }
   ],
   "source": [
    "#Questão 4)\n",
    "\n",
    "print(\"Para calcular o frete digite a distância e o peso do pacote.\")\n",
    "distancia = int(input(\"Digite a distância em Km:\"))\n",
    "peso = int(input(\"Digite o peso em Kg:\"))\n",
    "\n",
    "if distancia <= 100:\n",
    "    valor = peso * 1\n",
    "elif distancia > 100 and distancia <= 300:\n",
    "    valor = peso * 1.5\n",
    "elif distancia > 300 and peso > 10:\n",
    "    valor = peso * 2 + 10\n",
    "\n",
    "print(f\"O valor do frete é: {valor}\")\n",
    "\n"
   ]
  },
  {
   "cell_type": "code",
   "execution_count": null,
   "id": "f88d49fc-3b38-456a-93a5-18a0d4a8f734",
   "metadata": {},
   "outputs": [],
   "source": []
  }
 ],
 "metadata": {
  "kernelspec": {
   "display_name": "Python 3 (ipykernel)",
   "language": "python",
   "name": "python3"
  },
  "language_info": {
   "codemirror_mode": {
    "name": "ipython",
    "version": 3
   },
   "file_extension": ".py",
   "mimetype": "text/x-python",
   "name": "python",
   "nbconvert_exporter": "python",
   "pygments_lexer": "ipython3",
   "version": "3.11.7"
  }
 },
 "nbformat": 4,
 "nbformat_minor": 5
}
