{
 "cells": [
  {
   "cell_type": "code",
   "execution_count": 7,
   "id": "20818c2c-3a96-4a96-a408-9531aad627a1",
   "metadata": {},
   "outputs": [
    {
     "name": "stdin",
     "output_type": "stream",
     "text": [
      " 18\n",
      " 19\n"
     ]
    },
    {
     "name": "stdout",
     "output_type": "stream",
     "text": [
      "True\n"
     ]
    }
   ],
   "source": [
    "#Questão1)\n",
    "\n",
    "#entrada de dados\n",
    "#idade de juliana\n",
    "#idade de cris\n",
    "\n",
    "idade_juliana = int(input())\n",
    "idade_cris = int(input())\n",
    "\n",
    "#processamento\n",
    "#True se ambos forem maior de idade\n",
    "#<exp1> juliana é maior de idade\n",
    "#<exp2> cris é maior de idade\n",
    "#<exp1> and <exp2>\n",
    "#False em qualquer outro caso\n",
    "pode_entrar = idade_juliana >= 18 and idade_cris >= 18\n",
    "\n",
    "#saída\n",
    "print(pode_entrar)"
   ]
  },
  {
   "cell_type": "code",
   "execution_count": 9,
   "id": "66a35a24-52ae-46d2-873e-221c5652b818",
   "metadata": {},
   "outputs": [
    {
     "name": "stdin",
     "output_type": "stream",
     "text": [
      " 16\n",
      " 17\n"
     ]
    },
    {
     "name": "stdout",
     "output_type": "stream",
     "text": [
      "False\n"
     ]
    }
   ],
   "source": [
    "#Questão2)\n",
    "\n",
    "#entrada de dados\n",
    "#idade de juliana\n",
    "#idade de cris\n",
    "\n",
    "idade_juliana = int(input())\n",
    "idade_cris = int(input())\n",
    "\n",
    "#processamento\n",
    "#True se ao menos um dos dois for maior de idade\n",
    "#<exp1> juliana é maior de idade\n",
    "#<exp2> cris é maior de idade\n",
    "#<exp1> and <exp2>\n",
    "#False em qualquer outro caso\n",
    "pode_entrar = idade_juliana >= 18 or idade_cris >= 18\n",
    "\n",
    "#saída\n",
    "print(pode_entrar)"
   ]
  },
  {
   "cell_type": "code",
   "execution_count": 16,
   "id": "7ee75f31-e7ec-48c2-8280-4a02419d28a4",
   "metadata": {},
   "outputs": [
    {
     "name": "stdin",
     "output_type": "stream",
     "text": [
      "Digite sua idade: 17\n",
      "Já jogou pelo menos 3 jogos de tabuleiro (sim) ou (não): sim\n",
      "Quantos jogos já venceu? 2\n"
     ]
    },
    {
     "name": "stdout",
     "output_type": "stream",
     "text": [
      "Apto para ingressar no clube de jogos de tabuleiro? True\n"
     ]
    }
   ],
   "source": [
    "#Questão3\n",
    "\n",
    "#Entrada de dados\n",
    "#idade do jogador, quantidade de jogos, jogos vencidos\n",
    "idade_jogador =  int(input(\"Digite sua idade:\"))\n",
    "jogos_que_participou = str(input(\"Já jogou pelo menos 3 jogos de tabuleiro (sim) ou (não):\"))\n",
    "jogos_vencidos = int(input(\"Quantos jogos já venceu?\"))\n",
    "\n",
    "#Processamento\n",
    "#A: Ter entre 16 e 18 anos\n",
    "#B: Já ter jogado ao menos 3 jogos\n",
    "#C: Já ter vencido ao menos 1 jogo\n",
    "\n",
    "a = idade_jogador >= 16 and idade_jogador <= 18\n",
    "b = (jogos_que_participou == 'sim') or (jogos_que_participou == 'nao') \n",
    "c = jogos_vencidos >= 1\n",
    "\n",
    "pode_entrar_no_clube = a and b and c\n",
    "\n",
    "#Saida\n",
    " \n",
    "print(f\"Apto para ingressar no clube de jogos de tabuleiro?\", pode_entrar_no_clube)"
   ]
  },
  {
   "cell_type": "code",
   "execution_count": 17,
   "id": "1bfba0d8-687d-439e-874c-d733f42901f1",
   "metadata": {},
   "outputs": [
    {
     "name": "stdin",
     "output_type": "stream",
     "text": [
      "Escolha a classe (guerreiro, mago ou arqueiro): mago\n",
      "Digite os pontos de força (de 1 a 20): 8\n",
      "Digite os pontos de magia (de 1 a 20): 17\n"
     ]
    },
    {
     "name": "stdout",
     "output_type": "stream",
     "text": [
      "Pontos de atributo consistentes com a classe escolhida: True\n"
     ]
    }
   ],
   "source": [
    "#Questão4)\n",
    "\n",
    "#Entrada de dados\n",
    "#classe, pontos de força e pontos de magia\n",
    "classe = input(\"Escolha a classe (guerreiro, mago ou arqueiro):\")\n",
    "pontos_de_força = int(input(\"Digite os pontos de força (de 1 a 20):\"))\n",
    "pontos_de_magia = int(input(\"Digite os pontos de magia (de 1 a 20):\"))    \n",
    "\n",
    "#Processamento\n",
    "#Gerreiro: Força deve ser igual ou superior a 15, Magia deve ser 10 ou menos;\n",
    "#Mago: Força deve ser 10 ou menos, Magia deve ser igual ou superior a 15;\n",
    "#Arqueiro: Força e Magia devem ser ambos superiores a 5, mas nenhum deles pode ser superior a 15.\n",
    "\n",
    "a = (classe == \"guerreiro\") or (classe == \"mago\") or (classe == \"arqueiro\")\n",
    "b = (\"guerreiro\" and pontos_de_força >=15) or (\"mago\" and pontos_de_força <=10) or (\"arqueiro\" and pontos_de_força >=5)\n",
    "c = (\"guerreiro\" and pontos_de_magia <=10) or (\"mago\" and pontos_de_magia >=15) or (\"arqueiro\" and pontos_de_magia <=15)\n",
    "\n",
    "atributo_de_jogador = a and b and c\n",
    "\n",
    "#Saída\n",
    "print(\"Pontos de atributo consistentes com a classe escolhida:\", atributo_de_jogador)"
   ]
  },
  {
   "cell_type": "code",
   "execution_count": 2,
   "id": "2f689c8f-4ed7-4f9a-acf2-48b1f864dff7",
   "metadata": {},
   "outputs": [
    {
     "name": "stdin",
     "output_type": "stream",
     "text": [
      " m\n",
      " 60\n",
      " 25\n"
     ]
    },
    {
     "name": "stdout",
     "output_type": "stream",
     "text": [
      "False True False True\n"
     ]
    }
   ],
   "source": [
    "#Questão5)\n",
    "\n",
    "#Entrada de dados\n",
    "#genero, idade e tempo de serviço\n",
    "genero = input()\n",
    "idade  = int(input())\n",
    "tempo  = int(input())\n",
    "\n",
    "#Processamento\n",
    "#A: Para mulheres ter mais de 60 anos. Para homens, 65.\n",
    "#B: Ou ter trabalhado pelo menos 30 anos.\n",
    "#C: Ou ter 60 anos e trabalhado pelo menos 25.\n",
    "a = (genero == 'f' and idade >= 60) or (genero == 'm' and idade >= 65)\n",
    "b = idade >= 60 and tempo >=25\n",
    "c = tempo >= 30\n",
    "\n",
    "pode_aposentar = a or b or c\n",
    "\n",
    "#Saida\n",
    "print(a, b, c, pode_aposentar)\n",
    "            "
   ]
  },
  {
   "cell_type": "code",
   "execution_count": null,
   "id": "11463450-e7be-4018-820c-60b8b9604196",
   "metadata": {},
   "outputs": [],
   "source": []
  }
 ],
 "metadata": {
  "kernelspec": {
   "display_name": "Python 3 (ipykernel)",
   "language": "python",
   "name": "python3"
  },
  "language_info": {
   "codemirror_mode": {
    "name": "ipython",
    "version": 3
   },
   "file_extension": ".py",
   "mimetype": "text/x-python",
   "name": "python",
   "nbconvert_exporter": "python",
   "pygments_lexer": "ipython3",
   "version": "3.11.7"
  }
 },
 "nbformat": 4,
 "nbformat_minor": 5
}
