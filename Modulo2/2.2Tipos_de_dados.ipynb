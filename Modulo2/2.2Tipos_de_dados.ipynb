{
 "cells": [
  {
   "cell_type": "markdown",
   "id": "5ac66cd0-a82b-400a-9cda-300a68831493",
   "metadata": {},
   "source": [
    "Questão 1)\n",
    "\n",
    "1- Armazene o valor 5 em uma variável e o valor 2 em outra variável\n",
    "2- Imprima o tipo de dados dessas duas variáveis3- \n",
    "Divida a primeira variável (com o valor 5) pela segunda variável (com o valor 2) e armazene o resultado em uma terceira variáve4- l\n",
    "Imprima a terceira variável e também o seu tipo"
   ]
  },
  {
   "cell_type": "code",
   "execution_count": 2,
   "id": "8f19e0f8-f6f0-4871-8cbd-22235597bd45",
   "metadata": {},
   "outputs": [
    {
     "name": "stdout",
     "output_type": "stream",
     "text": [
      "<class 'int'>\n",
      "<class 'int'>\n",
      "2.5\n",
      "<class 'float'>\n"
     ]
    }
   ],
   "source": [
    "v1 = 5\n",
    "v2 = 2\n",
    "print(type(v1))\n",
    "print(type(v2))\n",
    "\n",
    "divisao = v1 / v2\n",
    "print(divisao)\n",
    "print(type(divisao))"
   ]
  },
  {
   "cell_type": "markdown",
   "id": "9e844dd9-b7b7-4edd-b06a-c867fa6d1a44",
   "metadata": {},
   "source": [
    " Questão 2)\n",
    "\n",
    "Armazene o texto \"o resultado é\"  em uma variável, o valor 10 em outra variável, e o valor 3.5 numa terceira variável.\n",
    "Some os valores da segunda e terceira variável e armazene em outra variável.\n",
    "Imprima todas as variáveis na ordem de criação e imprima também seus tipos."
   ]
  },
  {
   "cell_type": "code",
   "execution_count": 12,
   "id": "49156e30-4251-4b32-a476-d7c3b5448143",
   "metadata": {},
   "outputs": [
    {
     "name": "stdout",
     "output_type": "stream",
     "text": [
      "<class 'str'>\n",
      "<class 'int'>\n",
      "<class 'float'>\n",
      "<class 'float'>\n"
     ]
    }
   ],
   "source": [
    "v1 = \"o resultado é\"\n",
    "print(type(v1))\n",
    "v2 = 10\n",
    "print(type(v2))\n",
    "v3 = 3.5\n",
    "print(type(v3))\n",
    "soma = v2 + v3\n",
    "print(type(soma))"
   ]
  },
  {
   "cell_type": "markdown",
   "id": "1d509fc1-818b-43d5-af0d-00bcef1ebe95",
   "metadata": {},
   "source": [
    "Questão 3)\n",
    "\n",
    "Dadas duas variáveis v1 = 10 e v2 = 20, utilize uma terceira variável para trocar os valores entre as duas variáveis."
   ]
  },
  {
   "cell_type": "code",
   "execution_count": 13,
   "id": "6c3a798f-1b6a-4a57-bda0-4f414d3b6b25",
   "metadata": {},
   "outputs": [
    {
     "name": "stdout",
     "output_type": "stream",
     "text": [
      "20 10\n"
     ]
    }
   ],
   "source": [
    "v1 = 10\n",
    "v2 = 20\n",
    "aux = v1\n",
    "v1 = v2\n",
    "v2 = aux\n",
    "print(v1, v2)"
   ]
  },
  {
   "cell_type": "markdown",
   "id": "65fd025c-5d8f-4201-9134-a08115cda664",
   "metadata": {},
   "source": [
    " Questão 4)\n",
    "\n",
    "juros = 1.01\n",
    "saldo = 500.0\n",
    "rendimento1 = saldo * juros\n",
    "rendimento2 = rendimento1 * juros\n",
    "rendimento3 = rendimento2 * juros\n",
    "print(\"Após 3 meses meu novo saldo é\")\n",
    "print(rendim\n",
    "ento3)"
   ]
  },
  {
   "cell_type": "code",
   "execution_count": 9,
   "id": "4679a3f0-4164-4022-aa12-1d1c68af1e4b",
   "metadata": {},
   "outputs": [
    {
     "name": "stdout",
     "output_type": "stream",
     "text": [
      "500.0\n",
      "505.0\n",
      "510.05\n",
      "515.1505\n"
     ]
    }
   ],
   "source": [
    "juros = 1.01\n",
    "saldo = 500.0\n",
    "print(saldo)\n",
    "saldo = saldo * juros\n",
    "print(saldo)\n",
    "saldo = saldo * juros\n",
    "print(saldo)\n",
    "saldo = saldo * juros\n",
    "print(saldo)"
   ]
  }
 ],
 "metadata": {
  "kernelspec": {
   "display_name": "Python 3 (ipykernel)",
   "language": "python",
   "name": "python3"
  },
  "language_info": {
   "codemirror_mode": {
    "name": "ipython",
    "version": 3
   },
   "file_extension": ".py",
   "mimetype": "text/x-python",
   "name": "python",
   "nbconvert_exporter": "python",
   "pygments_lexer": "ipython3",
   "version": "3.11.7"
  }
 },
 "nbformat": 4,
 "nbformat_minor": 5
}
