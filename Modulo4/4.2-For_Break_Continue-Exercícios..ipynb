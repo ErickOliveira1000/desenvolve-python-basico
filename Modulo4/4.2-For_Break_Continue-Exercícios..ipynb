{
 "cells": [
  {
   "cell_type": "markdown",
   "id": "29e89030",
   "metadata": {},
   "source": [
    "# Módulo 4 - Repetições\n",
    "\n",
    "## Aulas 4.2 - Comando ```for``` e 4.3 Break e Continue"
   ]
  },
  {
   "cell_type": "markdown",
   "id": "a45b42df",
   "metadata": {},
   "source": [
    "### Q1.\n",
    "\n",
    "Crie um programa em Python que utilize o comando for para imprimir os números de 10 a 1, em ordem decrescente."
   ]
  },
  {
   "cell_type": "code",
   "execution_count": 39,
   "id": "55a75b3d",
   "metadata": {},
   "outputs": [
    {
     "name": "stdout",
     "output_type": "stream",
     "text": [
      "10\n",
      "9\n",
      "8\n",
      "7\n",
      "6\n",
      "5\n",
      "4\n",
      "3\n",
      "2\n",
      "1\n"
     ]
    }
   ],
   "source": [
    "## Escreva e execute seu código aqui\n",
    "\n",
    "for n in range(10, 0, -1):\n",
    "    print(n)"
   ]
  },
  {
   "cell_type": "markdown",
   "id": "94b47c36",
   "metadata": {},
   "source": [
    "### Q2.\n",
    "\n",
    "Dado um número inteiro positivo informado pelo usuário, crie um programa em Python que utilize o comando for para calcular e exibir a soma dos números de 1 até o número informado. Ou seja, $1 + 2 + 3 + ... + n$\n",
    "\n",
    "Exemplo de interação:\n",
    "```\n",
    "Digite um número: 5\n",
    "A soma dos números de 1 a 5 é 15\n",
    "```\n"
   ]
  },
  {
   "cell_type": "code",
   "execution_count": 6,
   "id": "45b71596",
   "metadata": {},
   "outputs": [
    {
     "name": "stdin",
     "output_type": "stream",
     "text": [
      "Digite um número: 5\n"
     ]
    },
    {
     "name": "stdout",
     "output_type": "stream",
     "text": [
      "A soma dos números de 1 a 5 é 15\n"
     ]
    }
   ],
   "source": [
    "## Escreva e execute seu código aqui\n",
    "\n",
    "n = int(input(\"Digite um número:\"))\n",
    "soma = 0\n",
    "for n in range(1, n+1, +1):\n",
    "    soma = soma + n\n",
    "print(f\"A soma dos números de 1 a\", n, \"é\",soma)"
   ]
  },
  {
   "cell_type": "markdown",
   "id": "0411d170",
   "metadata": {},
   "source": [
    "### Q3.\n",
    "\n",
    "Escreva um programa que lê 10 valores inteiros positivos do usuário e ao final imprime a média dos valores digitados com duas casas decimais.\n",
    "\n",
    "```\n",
    "Digite 10 números positivos:\n",
    "3\n",
    "2\n",
    "12\n",
    "14\n",
    "20\n",
    "42\n",
    "19\n",
    "0\n",
    "8\n",
    "1\n",
    "A média dos valores digitados é 12.10\n",
    "```"
   ]
  },
  {
   "cell_type": "code",
   "execution_count": 36,
   "id": "3f72f358",
   "metadata": {},
   "outputs": [
    {
     "name": "stdout",
     "output_type": "stream",
     "text": [
      "Digite 10 números positivos:\n"
     ]
    },
    {
     "name": "stdin",
     "output_type": "stream",
     "text": [
      " 3\n",
      " 2\n",
      " 12\n",
      " 14\n",
      " 20\n",
      " 42\n",
      " 19\n",
      " 0\n",
      " 8\n",
      " 1\n"
     ]
    },
    {
     "name": "stdout",
     "output_type": "stream",
     "text": [
      "A média dos valores digitados é 12.10\n"
     ]
    }
   ],
   "source": [
    "## Escreva e execute seu código aqui\n",
    "\n",
    "#n = int(\"Digite 10 números positivos:\"))\n",
    "print(\"Digite 10 números positivos:\")\n",
    "soma = 0\n",
    "\n",
    "\n",
    "#for i in range(1):\n",
    "#    n = input(\"Digite 10 números positivos:\")\n",
    "for i in range(10):\n",
    "    n = int(input())    \n",
    "    soma = soma + n\n",
    "    \n",
    "print(f\"A média dos valores digitados é {soma/10:.2f}\")"
   ]
  },
  {
   "cell_type": "markdown",
   "id": "d62e27ff",
   "metadata": {},
   "source": [
    "### Q4.\n",
    "\n",
    "Você vai criar um sistema que registra os resultados dos jogos do Atlético MG ao longo de um campeonato. Seu sistema vai receber os resultados de todos os jogos do Galo, e deve calcular a pontuação do time sabendo que vitórias valem 3 pontos, empates 1 ponto e derrotas 0 pontos.\n",
    "\n",
    "Entrada: <br>\n",
    "A primeira linha de entrada é um inteiro N com a quantidade jogos do galo. Para cada jogo você deve ler 2 inteiros, o primeiro com a quantidade de gols do galo e o segundo com a quantidade de gols do time oponente. \n",
    "\n",
    "Saída: <br>\n",
    "Apresente a soma de vitórias, empates e derrotas do galo, junto com o cálculo da pontuação total.\n",
    "\n",
    "Ex:\n",
    "```\n",
    "Entrada:\n",
    "4\n",
    "2\n",
    "0\n",
    "1\n",
    "1\n",
    "0\n",
    "3\n",
    "1\n",
    "0\n",
    "\n",
    "Saída:\n",
    "Vitórias: 2\n",
    "Empates: 1\n",
    "Derrotas: 1\n",
    "Pontuação: 7\n",
    "\n",
    "```\n",
    "\n",
    "\n"
   ]
  },
  {
   "cell_type": "code",
   "execution_count": 7,
   "id": "d3fdfc2a",
   "metadata": {},
   "outputs": [
    {
     "name": "stdin",
     "output_type": "stream",
     "text": [
      "Digite o número de jogos: 3\n",
      "Digite os gols do galo no jogo 1: 1\n",
      "Digite os gols do oponente no jogo 1 2\n",
      "Digite os gols do galo no jogo 2: 3\n",
      "Digite os gols do oponente no jogo 2 2\n",
      "Digite os gols do galo no jogo 3: 0\n",
      "Digite os gols do oponente no jogo 3 0\n"
     ]
    },
    {
     "name": "stdout",
     "output_type": "stream",
     "text": [
      "Total de vitórias: 1\n",
      "Total de vitórias: 1\n",
      "Total de vitórias: 1\n",
      "Pontuação: 4\n"
     ]
    }
   ],
   "source": [
    "## Escreva e execute seu código aqui\n",
    "\n",
    "n = int(input(\"Digite o número de jogos:\"))\n",
    "\n",
    "soma_vitorias, soma_empates, soma_derrotas = 0, 0, 0\n",
    "\n",
    "# jogo é inicializado e atualizado de acordo com\n",
    "# o range (intervalo), 0-n-1\n",
    "\n",
    "for jogo in range(n):\n",
    "    gols_galo = int(input(f\"Digite os gols do galo no jogo {jogo+1}:\"))\n",
    "    gols_op   = int(input(f\"Digite os gols do oponente no jogo {jogo+1}\"))\n",
    "\n",
    "    if gols_galo > gols_op:\n",
    "        soma_vitorias += 1\n",
    "    elif gols_galo < gols_op:\n",
    "        soma_derrotas += 1\n",
    "    else:\n",
    "        soma_empates += 1\n",
    "\n",
    "print(\"Total de vitórias:\", soma_vitorias)\n",
    "print(\"Total de vitórias:\", soma_empates)\n",
    "print(\"Total de vitórias:\", soma_derrotas)\n",
    "print(\"Pontuação:\", 3*soma_vitorias + soma_empates)\n"
   ]
  },
  {
   "cell_type": "markdown",
   "id": "fc98604d",
   "metadata": {},
   "source": [
    "### Q5.\n",
    "\n",
    "Faça um programa que lê dois inteiros N e M, e imprime na tela um campo de batalha naval. O tabuleiro deve possuir N linhas e M colunas. A primeira linha é composta por um espaço em branco e o cabeçalho das colunas, ou seja, valores de 1 a M. As N linhas seguintes iniciam com o cabeçalho da linha, ou seja, seu número, seguido de M caracteres \"/\" (barra) indicando uma possível posição jogável. \n",
    "\n",
    "```\n",
    "Entrada:\n",
    "5\n",
    "4\n",
    "\n",
    "Saída:\n",
    "  1 2 3 4 \n",
    "1 / / / / \n",
    "2 / / / / \n",
    "3 / / / / \n",
    "4 / / / / \n",
    "5 / / / / \n",
    "```\n",
    "\n",
    "Para esse exercício, precisamos lembrar que o comando print implicitamente adiciona uma quebra de linha ao final da impressão. Podemos interferir no final da impressão adicionando mais uma entrada ao print. No exemplo, finalizamos cada linha com um espaço em branco:\n",
    "```python\n",
    "print(\"Texto qualquer\", end = \" \")\n",
    "```"
   ]
  },
  {
   "cell_type": "code",
   "execution_count": 44,
   "id": "9bc92982-6ab5-4dcb-a518-7da012652426",
   "metadata": {},
   "outputs": [
    {
     "name": "stdout",
     "output_type": "stream",
     "text": [
      "Entrada:\n"
     ]
    },
    {
     "name": "stdin",
     "output_type": "stream",
     "text": [
      " 5\n",
      " 4\n"
     ]
    },
    {
     "name": "stdout",
     "output_type": "stream",
     "text": [
      " \n",
      "Saída:\n",
      "   1 2 3 4  \n",
      "1  / / / /\n",
      "2  / / / /\n",
      "3  / / / /\n",
      "4  / / / /\n",
      "5  / / / /\n"
     ]
    }
   ],
   "source": [
    "print(\"Entrada:\")\n",
    "m = int(input())\n",
    "n =int(input())\n",
    "print(\" \")\n",
    "print(\"Saída:\")\n",
    "\n",
    "for i in range(n+1):\n",
    "    if i == 0:\n",
    "        print(end = \"   \")\n",
    "        \n",
    "    else:\n",
    "        print(i, end = \" \")      \n",
    "for i in range(m+1):\n",
    "    if i == 0:\n",
    "        print(\" \")\n",
    "    else:\n",
    "        print(i,n*(\" /\"))\n",
    "        \n",
    "        \n",
    "        "
   ]
  },
  {
   "cell_type": "markdown",
   "id": "4654dc0b",
   "metadata": {},
   "source": [
    "---\n",
    "## Break e Continue"
   ]
  },
  {
   "cell_type": "markdown",
   "id": "24fe9d85",
   "metadata": {},
   "source": [
    "### Q6.\n",
    "\n",
    "Escreva um programa que lê uma quantidade indefinida de valores e informa o maior e o menor valor digitados. A leitura é encerrada quando o usuário digitar o valor 0 (zero).\n",
    "\n",
    "```\n",
    "Entrada:\n",
    "12\n",
    "-1\n",
    "29\n",
    "11\n",
    "-5\n",
    "0\n",
    "\n",
    "Saída:\n",
    "Maior: 29\n",
    "Menor: -5\n",
    "```"
   ]
  },
  {
   "cell_type": "code",
   "execution_count": 30,
   "id": "ee1c466a",
   "metadata": {},
   "outputs": [
    {
     "name": "stdout",
     "output_type": "stream",
     "text": [
      "Entrada:\n"
     ]
    },
    {
     "name": "stdin",
     "output_type": "stream",
     "text": [
      " -45\n",
      " 65\n",
      " 9\n",
      " 76\n",
      " 4\n",
      " -76\n",
      " 0\n"
     ]
    },
    {
     "name": "stdout",
     "output_type": "stream",
     "text": [
      "Saída:\n",
      "Maior: 76\n",
      "Menor: -76\n"
     ]
    }
   ],
   "source": [
    "## Escreva e execute seu código aqui\n",
    "# estado inicial de variáveis\n",
    "print(\"Entrada:\")\n",
    "n = int(input())\n",
    "maior = float('-inf')\n",
    "menor = float('inf')\n",
    "\n",
    "while True:\n",
    "    n = int(input())\n",
    "    if n == 0: break\n",
    "\n",
    "    if n > maior:\n",
    "        maior = n\n",
    "    if n < menor:\n",
    "        menor = n\n",
    "        \n",
    "\n",
    "# Saida\n",
    "print(\"Saída:\")\n",
    "print(f\"Maior: {maior}\")\n",
    "print(f\"Menor: {menor}\")"
   ]
  },
  {
   "cell_type": "markdown",
   "id": "30d486f7",
   "metadata": {},
   "source": [
    "### Q7.\n",
    "\n",
    "Escreva um programa que lê uma quantidade indefinida de valores e informa o **produto** dos valores positivos digitados. A leitura é encerrada quando o usuário digitar o valor 0 (zero).\n",
    "\n",
    "```\n",
    "Entrada:\n",
    "2\n",
    "-1\n",
    "1\n",
    "3\n",
    "-5\n",
    "0\n",
    "\n",
    "Saída:\n",
    "Produto: 6\n",
    "```"
   ]
  },
  {
   "cell_type": "code",
   "execution_count": 2,
   "id": "2f1ac324",
   "metadata": {},
   "outputs": [
    {
     "name": "stdin",
     "output_type": "stream",
     "text": [
      " 2\n",
      " -1\n",
      " 1\n",
      " 3\n",
      " -5\n",
      " 0\n"
     ]
    },
    {
     "name": "stdout",
     "output_type": "stream",
     "text": [
      "O produto dos positivos: 6\n"
     ]
    }
   ],
   "source": [
    "## Escreva e execute seu código aqui\n",
    "\n",
    "# Estado inicial de variáveis\n",
    "\n",
    "produto = 1\n",
    "\n",
    "while True:\n",
    "    n = int(input())\n",
    "    if n == 0: break # saia do laço\n",
    "    if n < 0: continue # volte para o início do laço\n",
    "    produto = produto * n\n",
    "        \n",
    "\n",
    "# Saida\n",
    "print(f\"O produto dos positivos: {produto}\")"
   ]
  },
  {
   "cell_type": "markdown",
   "id": "e932f3cf",
   "metadata": {},
   "source": [
    "### Q8.\n",
    "\n",
    "Vamos fazer uma calculadora que aceita expressões aritméticas de qualquer tamanho até que o usuário digite a palavra \"Fim\". Sua calculadora executa apenas as operações \"+\", \"-\".\n",
    "\n",
    "```\n",
    "Entrada:\n",
    "5\n",
    "+\n",
    "8\n",
    "-\n",
    "3\n",
    "+\n",
    "2\n",
    "Fim\n",
    "\n",
    "Saída:\n",
    "12\n",
    "```"
   ]
  },
  {
   "cell_type": "code",
   "execution_count": 78,
   "id": "e835d870",
   "metadata": {},
   "outputs": [
    {
     "name": "stdout",
     "output_type": "stream",
     "text": [
      "Entrada:\n"
     ]
    },
    {
     "name": "stdin",
     "output_type": "stream",
     "text": [
      " 5\n",
      " +\n",
      " 8\n",
      " -\n",
      " 3\n",
      " +\n",
      " 2\n",
      " Fim\n"
     ]
    },
    {
     "name": "stdout",
     "output_type": "stream",
     "text": [
      "  \n",
      "Saída:\n",
      "12\n"
     ]
    }
   ],
   "source": [
    "## Escreva e execute seu código aqui\n",
    "\n",
    "print(\"Entrada:\")\n",
    "op = (\" \")\n",
    "n1 = int(input())\n",
    "soma = n1\n",
    "\n",
    "while True: \n",
    "    op = str(input())\n",
    "    if op == \"Fim\":break\n",
    "    n = int(input()) \n",
    "    if op == \"+\":\n",
    "        soma += n\n",
    "        #soma == \n",
    "    elif op == \"-\":\n",
    "        soma -= n \n",
    "        \n",
    "print(\"  \")\n",
    "print(\"Saída:\")\n",
    "print(soma)    \n",
    "   "
   ]
  },
  {
   "cell_type": "markdown",
   "id": "7677c246-31a4-4670-aa12-9c22d69eef3f",
   "metadata": {},
   "source": [
    "### "
   ]
  },
  {
   "cell_type": "code",
   "execution_count": null,
   "id": "4581fe92-ce55-43b6-970c-48b3f32c2f1d",
   "metadata": {},
   "outputs": [],
   "source": []
  }
 ],
 "metadata": {
  "kernelspec": {
   "display_name": "Python 3 (ipykernel)",
   "language": "python",
   "name": "python3"
  },
  "language_info": {
   "codemirror_mode": {
    "name": "ipython",
    "version": 3
   },
   "file_extension": ".py",
   "mimetype": "text/x-python",
   "name": "python",
   "nbconvert_exporter": "python",
   "pygments_lexer": "ipython3",
   "version": "3.11.7"
  }
 },
 "nbformat": 4,
 "nbformat_minor": 5
}
