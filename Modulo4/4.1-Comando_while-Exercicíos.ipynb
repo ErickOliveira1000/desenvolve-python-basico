{
 "cells": [
  {
   "cell_type": "code",
   "execution_count": 1,
   "id": "dd0cfe5c-f3e2-4c30-bc4e-7a3c5a5c121f",
   "metadata": {},
   "outputs": [
    {
     "name": "stdin",
     "output_type": "stream",
     "text": [
      "Digite um número: 7\n"
     ]
    },
    {
     "name": "stdout",
     "output_type": "stream",
     "text": [
      "Maior que 5\n"
     ]
    }
   ],
   "source": [
    "# Questão 1)\n",
    "\n",
    "n = int(input(\"Digite um número:\"))\n",
    "\n",
    "if n > 5:\n",
    "    print(\"Maior que 5\")\n",
    "else:\n",
    "    print(\"Fim\")"
   ]
  },
  {
   "cell_type": "code",
   "execution_count": 5,
   "id": "18d0cb76-9338-46ae-a781-31804083783c",
   "metadata": {},
   "outputs": [
    {
     "name": "stdin",
     "output_type": "stream",
     "text": [
      "Digite um número: 6\n"
     ]
    },
    {
     "name": "stdout",
     "output_type": "stream",
     "text": [
      "1\n",
      "2\n",
      "3\n",
      "4\n",
      "5\n",
      "6\n",
      "Fim\n"
     ]
    }
   ],
   "source": [
    "#Questão 2)\n",
    "\n",
    "n = int(input(\"Digite um número:\"))\n",
    "soma = 0\n",
    "cont = 0\n",
    "\n",
    "while cont < n:\n",
    "    soma += cont\n",
    "    cont += 1\n",
    "    print(cont)\n",
    "else:\n",
    "    print(\"Fim\")\n",
    "    \n",
    "    \n",
    "    "
   ]
  },
  {
   "cell_type": "code",
   "execution_count": 52,
   "id": "8247e485-8d47-4390-ac10-3045aaace87b",
   "metadata": {},
   "outputs": [
    {
     "name": "stdin",
     "output_type": "stream",
     "text": [
      " 32\n",
      " 45\n",
      " 23\n"
     ]
    },
    {
     "name": "stdout",
     "output_type": "stream",
     "text": [
      "Reprovado\n",
      "Fim\n"
     ]
    }
   ],
   "source": [
    "#Questão 3)\n",
    "\n",
    "n1 = int(input())\n",
    "n2 = int(input())\n",
    "n3 = int(input())\n",
    "\n",
    "m = (n1 + n2 + n3)/ 3\n",
    "\n",
    "if m >= 60:\n",
    "    print(\"Aprovado\")\n",
    "elif m < 60 and m >= 40:\n",
    "    print(\"Recuperação\")\n",
    "else:\n",
    "    print(\"Reprovado\")\n",
    "print(\"Fim\")\n"
   ]
  },
  {
   "cell_type": "code",
   "execution_count": null,
   "id": "72d24f8c-25c2-4da5-88fa-906cd7251313",
   "metadata": {},
   "outputs": [
    {
     "name": "stdin",
     "output_type": "stream",
     "text": [
      "Digite um número: 5\n",
      " -1\n"
     ]
    }
   ],
   "source": [
    "# Questão 4)\n",
    "\n",
    "n = int(input(\"Digite um número:\"))\n",
    "\n",
    "maior = 0\n",
    "x = 0\n",
    "while n > 0:\n",
    "    x = int(input())\n",
    "    while x > maior:\n",
    "        maior = x\n",
    "        n = n - 1\n",
    "    else:\n",
    "        n = n - 1\n",
    "else:\n",
    "    print(maior)\n"
   ]
  },
  {
   "cell_type": "code",
   "execution_count": null,
   "id": "cb3d16ad-f6d8-4e7e-90d7-104432a3254f",
   "metadata": {},
   "outputs": [],
   "source": [
    "# Questão 5)\n",
    "n = int(input(\"Número de respondentes:\"))\n",
    "\n",
    "# inicializar as variaveis\n",
    "soma = 0 # resultado -> soma\n",
    "cont = 0 # variavel de controle do laço\n",
    "\n",
    "while cont < n:\n",
    "    idade = int(input(f\"Idade do respondente {cont+1}:\"))\n",
    "    soma += idade # soma = soma + idade\n",
    "    # atualizando a variavel de controle do laço\n",
    "    cont += 1 # cont = cont + 1\n",
    "\n",
    "# imprimir a media\n",
    "print(f\"A média das idades é {soma/n:.0f} anos\")"
   ]
  },
  {
   "cell_type": "code",
   "execution_count": 8,
   "id": "9951c8d6-19d5-4744-8d96-1650cb03e6c3",
   "metadata": {},
   "outputs": [
    {
     "name": "stdin",
     "output_type": "stream",
     "text": [
      " 3\n",
      " 29\n",
      " C\n",
      " 40\n",
      " R\n",
      " 23\n",
      " S\n"
     ]
    },
    {
     "name": "stdout",
     "output_type": "stream",
     "text": [
      "Total de cobaias:  92\n",
      "Total de sapos:  23\n",
      "Total de ratos:  40\n",
      "Total de coelhos:  29\n",
      "Total de sapos:, 25.00 %\n",
      "Total de ratos:, 43.48 %\n",
      "Total de coelhos:, 31.52 %\n"
     ]
    }
   ],
   "source": [
    "#Questão 6)\n",
    "#Entrada de dados\n",
    "n = int(input()) # quantidadde de experimentos\n",
    "\n",
    "#Inicializar as variaveis resultado e controle\n",
    "cont = 0\n",
    "soma_sapo, soma_rato, soma_coelho = 0, 0, 0\n",
    "\n",
    "#Interações\n",
    "while cont < n:\n",
    "    quantia = int(input())\n",
    "    tipo = input()\n",
    "\n",
    "    if tipo == 'S':\n",
    "        soma_sapo += quantia\n",
    "    elif tipo == 'R':\n",
    "        soma_rato += quantia\n",
    "    elif tipo == 'C':\n",
    "        soma_coelho += quantia\n",
    "        \n",
    "    total = soma_sapo + soma_rato + soma_coelho\n",
    "    cont += 1\n",
    "\n",
    "print(\"Total de cobaias: \", total)\n",
    "print(\"Total de sapos: \", soma_sapo)\n",
    "print(\"Total de ratos: \", soma_rato)\n",
    "print(\"Total de coelhos: \", soma_coelho)\n",
    "\n",
    "print(f\"Total de sapos:, {soma_sapo*100/total:.2f} %\")\n",
    "print(f\"Total de ratos:, {soma_rato*100/total:.2f} %\")\n",
    "print(f\"Total de coelhos:, {soma_coelho*100/total:.2f} %\")\n",
    "\n"
   ]
  },
  {
   "cell_type": "code",
   "execution_count": null,
   "id": "070a8ff4-736a-44b1-b833-eaea2a70b1dd",
   "metadata": {},
   "outputs": [],
   "source": []
  }
 ],
 "metadata": {
  "kernelspec": {
   "display_name": "Python 3 (ipykernel)",
   "language": "python",
   "name": "python3"
  },
  "language_info": {
   "codemirror_mode": {
    "name": "ipython",
    "version": 3
   },
   "file_extension": ".py",
   "mimetype": "text/x-python",
   "name": "python",
   "nbconvert_exporter": "python",
   "pygments_lexer": "ipython3",
   "version": "3.11.7"
  }
 },
 "nbformat": 4,
 "nbformat_minor": 5
}
