{
 "cells": [
  {
   "cell_type": "markdown",
   "id": "0d5035b5",
   "metadata": {},
   "source": [
    "# Tupla\n",
    "\n",
    "## Aula 8.2"
   ]
  },
  {
   "cell_type": "markdown",
   "id": "0bdece85",
   "metadata": {},
   "source": [
    "### Q1. \n",
    "\n",
    "Escreva uma função ```calcula_area_perimetro``` que recebe **apenas um parâmetro** ```dimensoes``` e calcula a área e o perímetro a partir das dimensões dadas. \n",
    "- ```dimensoes``` é uma tupla (largura, comprimento) com as dimensões de um terreno retangular\n",
    "- Sua função deve calcular e retornar as seguintes operações\n",
    "   - $area = largura \\times comprimento$\n",
    "   - $perimetro = 2\\times(largura + comprimento)$\n"
   ]
  },
  {
   "cell_type": "code",
   "execution_count": 78,
   "id": "0a258eba",
   "metadata": {},
   "outputs": [],
   "source": [
    "# Implemente aqui a função calcula_area_perimetro\n",
    "def calcula_area_perimetro(area, perimetro):\n",
    "    dimensoes1 = ()\n",
    "    for i in dimensoes:\n",
    "        area = i[0] * i[1]\n",
    "        perimetro = 2 * (i[0] + i[1])\n",
    "        dimensoes1 = (area, perimetro)\n",
    "    return dimensoes1"
   ]
  },
  {
   "cell_type": "code",
   "execution_count": 80,
   "id": "e1866c04",
   "metadata": {},
   "outputs": [
    {
     "name": "stdin",
     "output_type": "stream",
     "text": [
      "Digite a largura: 5\n",
      "Digite o comprimento: 7\n"
     ]
    },
    {
     "name": "stdout",
     "output_type": "stream",
     "text": [
      "(35, 24) <class 'tuple'>\n"
     ]
    }
   ],
   "source": [
    "# Complete o exemplo de uso abaixo\n",
    "largura = 5\n",
    "comprimento = 7\n",
    "\n",
    "dimensoes =  [(int(input(\"Digite a largura:\")), int(input(\"Digite o comprimento:\")))]\n",
    "retorno = calcula_area_perimetro(area, perimetro) ## complete aqui a chamada da função\n",
    "print(retorno, type(retorno))"
   ]
  },
  {
   "cell_type": "markdown",
   "id": "cbdcb986",
   "metadata": {},
   "source": [
    "### Q2.\n",
    "\n",
    "Dada uma string, imprima todas as vogais que aparecem na string, bem como todos os índices onde elas ocorrem. Para isso, use a função ```enumerate```.\n"
   ]
  },
  {
   "cell_type": "code",
   "execution_count": 4,
   "id": "1f6b1f2d",
   "metadata": {},
   "outputs": [
    {
     "name": "stdout",
     "output_type": "stream",
     "text": [
      "0 O\n",
      "3 a\n",
      "5 o\n",
      "8 o\n",
      "9 e\n",
      "10 u\n",
      "12 a\n",
      "15 o\n",
      "16 u\n",
      "18 a\n",
      "21 a\n",
      "23 A\n",
      "25 i\n",
      "27 e\n"
     ]
    }
   ],
   "source": [
    "frase = \"O rato roeu a roupa da Alice\"\n",
    "\n",
    "# Implemente aqui sua solução\n",
    "\n",
    "for i, letra in enumerate(frase):\n",
    "    if letra.lower() in \"aeiou\":\n",
    "        print(i, letra)\n",
    "    "
   ]
  },
  {
   "cell_type": "markdown",
   "id": "8d46663f",
   "metadata": {},
   "source": [
    "### Q3.\n",
    "\n",
    "Escreva uma função em Python chamada ```ordenar_tuplas``` que recebe uma lista de tuplas, cada uma contendo o nome de um aluno e sua respectiva média, e retorna uma nova lista ordenada em ordem decrescente de médias."
   ]
  },
  {
   "cell_type": "code",
   "execution_count": 62,
   "id": "469f2e6e",
   "metadata": {},
   "outputs": [],
   "source": [
    "# Implemente aqui a função ordenar_tuplas\n",
    "def ordenar_tuplas(alunos_notas):\n",
    "    ordenar_tuplas = sorted(alunos_notas, key=lambda c: c[1], reverse=True)\n",
    "    return ordenar_tuplas"
   ]
  },
  {
   "cell_type": "code",
   "execution_count": 63,
   "id": "1972c62b",
   "metadata": {},
   "outputs": [
    {
     "name": "stdout",
     "output_type": "stream",
     "text": [
      "[('Charlie', 9.0), ('David', 8.8), ('Alice', 8.5), ('Bob', 7.2)]\n"
     ]
    }
   ],
   "source": [
    "# Exemplo de uso:\n",
    "alunos_notas = [('Alice', 8.5), ('Bob', 7.2), ('Charlie', 9.0), ('David', 8.8)]\n",
    "resultado = ordenar_tuplas(alunos_notas)\n",
    "print(resultado)\n",
    "# Saída esperada: [('Charlie', 9.0), ('David', 8.8), ('Alice', 8.5), ('Bob', 7.2)]"
   ]
  },
  {
   "cell_type": "markdown",
   "id": "e0268fae",
   "metadata": {},
   "source": [
    "### Q4.\n",
    "\n",
    "Escreva uma função em Python chamada ```comprimir_tuplas``` que recebe uma lista de tuplas, cada uma contendo uma palavra e um número, e retorna uma nova lista de tuplas onde palavras idênticas são agrupadas e seus números são somados.\n",
    "\n"
   ]
  },
  {
   "cell_type": "code",
   "execution_count": 214,
   "id": "30a221f3",
   "metadata": {},
   "outputs": [],
   "source": [
    "# Implemente aqui a função comprimir_tuplas\n",
    "\n",
    "def comprimir_tuplas(tuplas_originais):\n",
    "    t1 = tuplas_originais\n",
    "    frutas_qtd = ()\n",
    "    for i in range(len(t1)):\n",
    "        for j in range(len(t1)):\n",
    "            if i != j and t1[i][0] == t1[j][0] and t1[j][0] not in frutas_qtd:\n",
    "                frutas_qtd += t1[i][0], t1[i][1]+t1[j][1]\n",
    "    for i in range(len(t1)):\n",
    "        if t1[i][0] not in frutas_qtd:\n",
    "            frutas_qtd += t1[i][0], t1[i][1]\n",
    "    return frutas_qtd\n"
   ]
  },
  {
   "cell_type": "code",
   "execution_count": 215,
   "id": "80972bac",
   "metadata": {},
   "outputs": [
    {
     "name": "stdout",
     "output_type": "stream",
     "text": [
      "('maçã', 8, 'banana', 5, 'laranja', 1)\n"
     ]
    }
   ],
   "source": [
    "# Exemplo de uso:\n",
    "tuplas_originais = [('maçã', 3), ('banana', 2), ('maçã', 5), ('laranja', 1), ('banana', 3)]\n",
    "resultado = comprimir_tuplas(tuplas_originais)\n",
    "print(resultado)\n",
    "# Saída esperada: [('maçã', 8), ('banana', 5), ('laranja', 1)]"
   ]
  },
  {
   "cell_type": "markdown",
   "id": "649a5082",
   "metadata": {},
   "source": [
    "### Q5. \n",
    "\n",
    "- Escreva um script que peça o nome e a idade de todos na fila de uma balada. Crie uma lista de tuplas com os pares ```(nome, idade)``` de cada um. \n",
    "- Em seguida crie e imprima duas tuplas apenas com os nomes, uma com os menores de idade que não poderão entrar, e uma com os maiores de idade (```idade >= 18```). \n",
    "\n"
   ]
  },
  {
   "cell_type": "code",
   "execution_count": 11,
   "id": "a0643516-f344-4e15-8a03-1dc33ccd6d0b",
   "metadata": {},
   "outputs": [
    {
     "name": "stdin",
     "output_type": "stream",
     "text": [
      "Digite o numero de pessoas que deseja adicionar na lista: 6\n",
      "Digite o nome: joao\n",
      "Digite a idade: 17\n",
      "Digite o nome: maria\n",
      "Digite a idade: 18\n",
      "Digite o nome: bob\n",
      "Digite a idade: 14\n",
      "Digite o nome: regis\n",
      "Digite a idade: 28\n",
      "Digite o nome: jota\n",
      "Digite a idade: 35\n",
      "Digite o nome: kaique\n",
      "Digite a idade: 19\n"
     ]
    },
    {
     "name": "stdout",
     "output_type": "stream",
     "text": [
      "Lista de nomes e idades: ('joao', '17', 'maria', '18', 'bob', '14', 'regis', '28', 'jota', '35', 'kaique', '19')\n",
      "Lista de maiores de idades: ('maria', '18', 'regis', '28', 'jota', '35', 'kaique', '19')\n",
      "Lista de menores de idades: ('joao', '17', 'bob', '14')\n"
     ]
    }
   ],
   "source": [
    "## Implemente aqui sua solução\n",
    "n = int(input(\"Digite o numero de pessoas que deseja adicionar na lista:\"))\n",
    "dados = ()\n",
    "dados1 = ()\n",
    "dados2 = ()\n",
    "while n > 0:\n",
    "    dadosn =  (input(\"Digite o nome:\"), input(\"Digite a idade:\"))\n",
    "    dados += dadosn\n",
    "    if dadosn[1] > '17':\n",
    "        dados1 += dadosn\n",
    "    else:\n",
    "        dados2 += dadosn\n",
    "    n = n - 1\n",
    "print(\"Lista de nomes e idades:\", dados)\n",
    "print(\"Lista de maiores de idades:\", dados1)\n",
    "print(\"Lista de menores de idades:\", dados2)"
   ]
  },
  {
   "cell_type": "code",
   "execution_count": null,
   "id": "f0f8bbd0-0e01-4844-982c-a4a5c3baff19",
   "metadata": {},
   "outputs": [],
   "source": []
  }
 ],
 "metadata": {
  "kernelspec": {
   "display_name": "Python 3 (ipykernel)",
   "language": "python",
   "name": "python3"
  },
  "language_info": {
   "codemirror_mode": {
    "name": "ipython",
    "version": 3
   },
   "file_extension": ".py",
   "mimetype": "text/x-python",
   "name": "python",
   "nbconvert_exporter": "python",
   "pygments_lexer": "ipython3",
   "version": "3.11.7"
  }
 },
 "nbformat": 4,
 "nbformat_minor": 5
}
